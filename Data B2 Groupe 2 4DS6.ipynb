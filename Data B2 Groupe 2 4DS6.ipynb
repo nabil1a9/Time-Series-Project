{
 "cells": [
  {
   "cell_type": "markdown",
   "id": "46736d18",
   "metadata": {},
   "source": [
    "Abir Barouni/ Mariem Mazouz / Safa Chaari / Ghofrane Soltani / Med aziz Omrani / Aziz Tebessi\n",
    "4DS6\n",
    "  "
   ]
  },
  {
   "cell_type": "markdown",
   "id": "bcaf8972",
   "metadata": {},
   "source": [
    "# Phase 1- Analyse statistique et graphique d’une série temporelle"
   ]
  },
  {
   "cell_type": "markdown",
   "id": "391aa8e2",
   "metadata": {},
   "source": [
    "# Etude graphique des données  \n",
    "\n",
    "Le taux de chômage de la zone de Boston-Cambridge-Nashua, MA-NH (NECTA) (BOST625URN) est le pourcentage de la main-d'œuvre qui est au chômage dans cette région métropolitaine, située dans le Massachusetts et le New Hampshire aux États-Unis. Il est utilisé pour évaluer la santé économique du marché du travail local et est un indicateur clé utilisé par les décideurs politiques, les économistes, les entreprises et les individus pour prendre des décisions éclairées sur l'embauche ou la recherche d'emploi, ainsi que pour évaluer l'efficacité des politiques et des programmes d'emploi.\n",
    "\n",
    "Il s'agit d'une série d'observations de fréquence mensuelle qui s'étale du mois Janvier 1992 au Décembre 2019."
   ]
  },
  {
   "cell_type": "markdown",
   "id": "43c2cc8e",
   "metadata": {},
   "source": [
    "### Chargement des données"
   ]
  },
  {
   "cell_type": "code",
   "execution_count": 4,
   "id": "658f44e0",
   "metadata": {},
   "outputs": [
    {
     "name": "stdout",
     "output_type": "stream",
     "text": [
      "package 'fredr' successfully unpacked and MD5 sums checked\n",
      "\n",
      "The downloaded binary packages are in\n",
      "\tC:\\Users\\Abir\\AppData\\Local\\Temp\\RtmpMr0oaG\\downloaded_packages\n"
     ]
    },
    {
     "name": "stderr",
     "output_type": "stream",
     "text": [
      "Warning message:\n",
      "\"package 'fredr' was built under R version 3.6.3\""
     ]
    }
   ],
   "source": [
    "install.packages(\"fredr\")\n",
    "library(fredr)\n",
    "fredr_set_key(\"d12020aa815dd3c82d419e68256020c4\")"
   ]
  },
  {
   "cell_type": "code",
   "execution_count": 5,
   "id": "e93dd9ea",
   "metadata": {},
   "outputs": [],
   "source": [
    "data2<-fredr(series_id = \"BOST625URN\",\n",
    "observation_start = as.Date(\"1992-01-01\"),\n",
    "observation_end = as.Date(\"2019-12-31\"))"
   ]
  },
  {
   "cell_type": "code",
   "execution_count": 6,
   "id": "9a94ef60",
   "metadata": {},
   "outputs": [
    {
     "data": {
      "text/html": [
       "<table>\n",
       "<thead><tr><th scope=col>date</th><th scope=col>series_id</th><th scope=col>value</th><th scope=col>realtime_start</th><th scope=col>realtime_end</th></tr></thead>\n",
       "<tbody>\n",
       "\t<tr><td>1992-01-01</td><td>BOST625URN</td><td>8.8       </td><td>2023-05-01</td><td>2023-05-01</td></tr>\n",
       "\t<tr><td>1992-02-01</td><td>BOST625URN</td><td>8.7       </td><td>2023-05-01</td><td>2023-05-01</td></tr>\n",
       "\t<tr><td>1992-03-01</td><td>BOST625URN</td><td>8.4       </td><td>2023-05-01</td><td>2023-05-01</td></tr>\n",
       "\t<tr><td>1992-04-01</td><td>BOST625URN</td><td>7.9       </td><td>2023-05-01</td><td>2023-05-01</td></tr>\n",
       "\t<tr><td>1992-05-01</td><td>BOST625URN</td><td>8.2       </td><td>2023-05-01</td><td>2023-05-01</td></tr>\n",
       "\t<tr><td>1992-06-01</td><td>BOST625URN</td><td>8.8       </td><td>2023-05-01</td><td>2023-05-01</td></tr>\n",
       "\t<tr><td>1992-07-01</td><td>BOST625URN</td><td>8.5       </td><td>2023-05-01</td><td>2023-05-01</td></tr>\n",
       "\t<tr><td>1992-08-01</td><td>BOST625URN</td><td>8.3       </td><td>2023-05-01</td><td>2023-05-01</td></tr>\n",
       "\t<tr><td>1992-09-01</td><td>BOST625URN</td><td>8.5       </td><td>2023-05-01</td><td>2023-05-01</td></tr>\n",
       "\t<tr><td>1992-10-01</td><td>BOST625URN</td><td>7.7       </td><td>2023-05-01</td><td>2023-05-01</td></tr>\n",
       "\t<tr><td>1992-11-01</td><td>BOST625URN</td><td>7.6       </td><td>2023-05-01</td><td>2023-05-01</td></tr>\n",
       "\t<tr><td>1992-12-01</td><td>BOST625URN</td><td>7.4       </td><td>2023-05-01</td><td>2023-05-01</td></tr>\n",
       "\t<tr><td>1993-01-01</td><td>BOST625URN</td><td>8.1       </td><td>2023-05-01</td><td>2023-05-01</td></tr>\n",
       "\t<tr><td>1993-02-01</td><td>BOST625URN</td><td>7.8       </td><td>2023-05-01</td><td>2023-05-01</td></tr>\n",
       "\t<tr><td>1993-03-01</td><td>BOST625URN</td><td>7.4       </td><td>2023-05-01</td><td>2023-05-01</td></tr>\n",
       "\t<tr><td>1993-04-01</td><td>BOST625URN</td><td>6.8       </td><td>2023-05-01</td><td>2023-05-01</td></tr>\n",
       "\t<tr><td>1993-05-01</td><td>BOST625URN</td><td>6.8       </td><td>2023-05-01</td><td>2023-05-01</td></tr>\n",
       "\t<tr><td>1993-06-01</td><td>BOST625URN</td><td>7.1       </td><td>2023-05-01</td><td>2023-05-01</td></tr>\n",
       "\t<tr><td>1993-07-01</td><td>BOST625URN</td><td>6.9       </td><td>2023-05-01</td><td>2023-05-01</td></tr>\n",
       "\t<tr><td>1993-08-01</td><td>BOST625URN</td><td>6.5       </td><td>2023-05-01</td><td>2023-05-01</td></tr>\n",
       "\t<tr><td>1993-09-01</td><td>BOST625URN</td><td>6.5       </td><td>2023-05-01</td><td>2023-05-01</td></tr>\n",
       "\t<tr><td>1993-10-01</td><td>BOST625URN</td><td>6.1       </td><td>2023-05-01</td><td>2023-05-01</td></tr>\n",
       "\t<tr><td>1993-11-01</td><td>BOST625URN</td><td>5.7       </td><td>2023-05-01</td><td>2023-05-01</td></tr>\n",
       "\t<tr><td>1993-12-01</td><td>BOST625URN</td><td>5.5       </td><td>2023-05-01</td><td>2023-05-01</td></tr>\n",
       "\t<tr><td>1994-01-01</td><td>BOST625URN</td><td>6.6       </td><td>2023-05-01</td><td>2023-05-01</td></tr>\n",
       "\t<tr><td>1994-02-01</td><td>BOST625URN</td><td>6.3       </td><td>2023-05-01</td><td>2023-05-01</td></tr>\n",
       "\t<tr><td>1994-03-01</td><td>BOST625URN</td><td>6.1       </td><td>2023-05-01</td><td>2023-05-01</td></tr>\n",
       "\t<tr><td>1994-04-01</td><td>BOST625URN</td><td>5.6       </td><td>2023-05-01</td><td>2023-05-01</td></tr>\n",
       "\t<tr><td>1994-05-01</td><td>BOST625URN</td><td>5.5       </td><td>2023-05-01</td><td>2023-05-01</td></tr>\n",
       "\t<tr><td>1994-06-01</td><td>BOST625URN</td><td>5.9       </td><td>2023-05-01</td><td>2023-05-01</td></tr>\n",
       "\t<tr><td>...</td><td>...</td><td>...</td><td>...</td><td>...</td></tr>\n",
       "\t<tr><td>2017-07-01</td><td>BOST625URN</td><td>3.8       </td><td>2023-05-01</td><td>2023-05-01</td></tr>\n",
       "\t<tr><td>2017-08-01</td><td>BOST625URN</td><td>3.6       </td><td>2023-05-01</td><td>2023-05-01</td></tr>\n",
       "\t<tr><td>2017-09-01</td><td>BOST625URN</td><td>3.4       </td><td>2023-05-01</td><td>2023-05-01</td></tr>\n",
       "\t<tr><td>2017-10-01</td><td>BOST625URN</td><td>3.1       </td><td>2023-05-01</td><td>2023-05-01</td></tr>\n",
       "\t<tr><td>2017-11-01</td><td>BOST625URN</td><td>3.0       </td><td>2023-05-01</td><td>2023-05-01</td></tr>\n",
       "\t<tr><td>2017-12-01</td><td>BOST625URN</td><td>3.0       </td><td>2023-05-01</td><td>2023-05-01</td></tr>\n",
       "\t<tr><td>2018-01-01</td><td>BOST625URN</td><td>3.7       </td><td>2023-05-01</td><td>2023-05-01</td></tr>\n",
       "\t<tr><td>2018-02-01</td><td>BOST625URN</td><td>3.6       </td><td>2023-05-01</td><td>2023-05-01</td></tr>\n",
       "\t<tr><td>2018-03-01</td><td>BOST625URN</td><td>3.4       </td><td>2023-05-01</td><td>2023-05-01</td></tr>\n",
       "\t<tr><td>2018-04-01</td><td>BOST625URN</td><td>3.0       </td><td>2023-05-01</td><td>2023-05-01</td></tr>\n",
       "\t<tr><td>2018-05-01</td><td>BOST625URN</td><td>3.0       </td><td>2023-05-01</td><td>2023-05-01</td></tr>\n",
       "\t<tr><td>2018-06-01</td><td>BOST625URN</td><td>3.5       </td><td>2023-05-01</td><td>2023-05-01</td></tr>\n",
       "\t<tr><td>2018-07-01</td><td>BOST625URN</td><td>3.4       </td><td>2023-05-01</td><td>2023-05-01</td></tr>\n",
       "\t<tr><td>2018-08-01</td><td>BOST625URN</td><td>3.1       </td><td>2023-05-01</td><td>2023-05-01</td></tr>\n",
       "\t<tr><td>2018-09-01</td><td>BOST625URN</td><td>2.9       </td><td>2023-05-01</td><td>2023-05-01</td></tr>\n",
       "\t<tr><td>2018-10-01</td><td>BOST625URN</td><td>2.7       </td><td>2023-05-01</td><td>2023-05-01</td></tr>\n",
       "\t<tr><td>2018-11-01</td><td>BOST625URN</td><td>2.5       </td><td>2023-05-01</td><td>2023-05-01</td></tr>\n",
       "\t<tr><td>2018-12-01</td><td>BOST625URN</td><td>2.6       </td><td>2023-05-01</td><td>2023-05-01</td></tr>\n",
       "\t<tr><td>2019-01-01</td><td>BOST625URN</td><td>3.5       </td><td>2023-05-01</td><td>2023-05-01</td></tr>\n",
       "\t<tr><td>2019-02-01</td><td>BOST625URN</td><td>3.1       </td><td>2023-05-01</td><td>2023-05-01</td></tr>\n",
       "\t<tr><td>2019-03-01</td><td>BOST625URN</td><td>3.0       </td><td>2023-05-01</td><td>2023-05-01</td></tr>\n",
       "\t<tr><td>2019-04-01</td><td>BOST625URN</td><td>2.5       </td><td>2023-05-01</td><td>2023-05-01</td></tr>\n",
       "\t<tr><td>2019-05-01</td><td>BOST625URN</td><td>2.7       </td><td>2023-05-01</td><td>2023-05-01</td></tr>\n",
       "\t<tr><td>2019-06-01</td><td>BOST625URN</td><td>2.9       </td><td>2023-05-01</td><td>2023-05-01</td></tr>\n",
       "\t<tr><td>2019-07-01</td><td>BOST625URN</td><td>3.1       </td><td>2023-05-01</td><td>2023-05-01</td></tr>\n",
       "\t<tr><td>2019-08-01</td><td>BOST625URN</td><td>2.8       </td><td>2023-05-01</td><td>2023-05-01</td></tr>\n",
       "\t<tr><td>2019-09-01</td><td>BOST625URN</td><td>2.6       </td><td>2023-05-01</td><td>2023-05-01</td></tr>\n",
       "\t<tr><td>2019-10-01</td><td>BOST625URN</td><td>2.4       </td><td>2023-05-01</td><td>2023-05-01</td></tr>\n",
       "\t<tr><td>2019-11-01</td><td>BOST625URN</td><td>2.3       </td><td>2023-05-01</td><td>2023-05-01</td></tr>\n",
       "\t<tr><td>2019-12-01</td><td>BOST625URN</td><td>2.3       </td><td>2023-05-01</td><td>2023-05-01</td></tr>\n",
       "</tbody>\n",
       "</table>\n"
      ],
      "text/latex": [
       "\\begin{tabular}{r|lllll}\n",
       " date & series\\_id & value & realtime\\_start & realtime\\_end\\\\\n",
       "\\hline\n",
       "\t 1992-01-01 & BOST625URN & 8.8        & 2023-05-01 & 2023-05-01\\\\\n",
       "\t 1992-02-01 & BOST625URN & 8.7        & 2023-05-01 & 2023-05-01\\\\\n",
       "\t 1992-03-01 & BOST625URN & 8.4        & 2023-05-01 & 2023-05-01\\\\\n",
       "\t 1992-04-01 & BOST625URN & 7.9        & 2023-05-01 & 2023-05-01\\\\\n",
       "\t 1992-05-01 & BOST625URN & 8.2        & 2023-05-01 & 2023-05-01\\\\\n",
       "\t 1992-06-01 & BOST625URN & 8.8        & 2023-05-01 & 2023-05-01\\\\\n",
       "\t 1992-07-01 & BOST625URN & 8.5        & 2023-05-01 & 2023-05-01\\\\\n",
       "\t 1992-08-01 & BOST625URN & 8.3        & 2023-05-01 & 2023-05-01\\\\\n",
       "\t 1992-09-01 & BOST625URN & 8.5        & 2023-05-01 & 2023-05-01\\\\\n",
       "\t 1992-10-01 & BOST625URN & 7.7        & 2023-05-01 & 2023-05-01\\\\\n",
       "\t 1992-11-01 & BOST625URN & 7.6        & 2023-05-01 & 2023-05-01\\\\\n",
       "\t 1992-12-01 & BOST625URN & 7.4        & 2023-05-01 & 2023-05-01\\\\\n",
       "\t 1993-01-01 & BOST625URN & 8.1        & 2023-05-01 & 2023-05-01\\\\\n",
       "\t 1993-02-01 & BOST625URN & 7.8        & 2023-05-01 & 2023-05-01\\\\\n",
       "\t 1993-03-01 & BOST625URN & 7.4        & 2023-05-01 & 2023-05-01\\\\\n",
       "\t 1993-04-01 & BOST625URN & 6.8        & 2023-05-01 & 2023-05-01\\\\\n",
       "\t 1993-05-01 & BOST625URN & 6.8        & 2023-05-01 & 2023-05-01\\\\\n",
       "\t 1993-06-01 & BOST625URN & 7.1        & 2023-05-01 & 2023-05-01\\\\\n",
       "\t 1993-07-01 & BOST625URN & 6.9        & 2023-05-01 & 2023-05-01\\\\\n",
       "\t 1993-08-01 & BOST625URN & 6.5        & 2023-05-01 & 2023-05-01\\\\\n",
       "\t 1993-09-01 & BOST625URN & 6.5        & 2023-05-01 & 2023-05-01\\\\\n",
       "\t 1993-10-01 & BOST625URN & 6.1        & 2023-05-01 & 2023-05-01\\\\\n",
       "\t 1993-11-01 & BOST625URN & 5.7        & 2023-05-01 & 2023-05-01\\\\\n",
       "\t 1993-12-01 & BOST625URN & 5.5        & 2023-05-01 & 2023-05-01\\\\\n",
       "\t 1994-01-01 & BOST625URN & 6.6        & 2023-05-01 & 2023-05-01\\\\\n",
       "\t 1994-02-01 & BOST625URN & 6.3        & 2023-05-01 & 2023-05-01\\\\\n",
       "\t 1994-03-01 & BOST625URN & 6.1        & 2023-05-01 & 2023-05-01\\\\\n",
       "\t 1994-04-01 & BOST625URN & 5.6        & 2023-05-01 & 2023-05-01\\\\\n",
       "\t 1994-05-01 & BOST625URN & 5.5        & 2023-05-01 & 2023-05-01\\\\\n",
       "\t 1994-06-01 & BOST625URN & 5.9        & 2023-05-01 & 2023-05-01\\\\\n",
       "\t ... & ... & ... & ... & ...\\\\\n",
       "\t 2017-07-01 & BOST625URN & 3.8        & 2023-05-01 & 2023-05-01\\\\\n",
       "\t 2017-08-01 & BOST625URN & 3.6        & 2023-05-01 & 2023-05-01\\\\\n",
       "\t 2017-09-01 & BOST625URN & 3.4        & 2023-05-01 & 2023-05-01\\\\\n",
       "\t 2017-10-01 & BOST625URN & 3.1        & 2023-05-01 & 2023-05-01\\\\\n",
       "\t 2017-11-01 & BOST625URN & 3.0        & 2023-05-01 & 2023-05-01\\\\\n",
       "\t 2017-12-01 & BOST625URN & 3.0        & 2023-05-01 & 2023-05-01\\\\\n",
       "\t 2018-01-01 & BOST625URN & 3.7        & 2023-05-01 & 2023-05-01\\\\\n",
       "\t 2018-02-01 & BOST625URN & 3.6        & 2023-05-01 & 2023-05-01\\\\\n",
       "\t 2018-03-01 & BOST625URN & 3.4        & 2023-05-01 & 2023-05-01\\\\\n",
       "\t 2018-04-01 & BOST625URN & 3.0        & 2023-05-01 & 2023-05-01\\\\\n",
       "\t 2018-05-01 & BOST625URN & 3.0        & 2023-05-01 & 2023-05-01\\\\\n",
       "\t 2018-06-01 & BOST625URN & 3.5        & 2023-05-01 & 2023-05-01\\\\\n",
       "\t 2018-07-01 & BOST625URN & 3.4        & 2023-05-01 & 2023-05-01\\\\\n",
       "\t 2018-08-01 & BOST625URN & 3.1        & 2023-05-01 & 2023-05-01\\\\\n",
       "\t 2018-09-01 & BOST625URN & 2.9        & 2023-05-01 & 2023-05-01\\\\\n",
       "\t 2018-10-01 & BOST625URN & 2.7        & 2023-05-01 & 2023-05-01\\\\\n",
       "\t 2018-11-01 & BOST625URN & 2.5        & 2023-05-01 & 2023-05-01\\\\\n",
       "\t 2018-12-01 & BOST625URN & 2.6        & 2023-05-01 & 2023-05-01\\\\\n",
       "\t 2019-01-01 & BOST625URN & 3.5        & 2023-05-01 & 2023-05-01\\\\\n",
       "\t 2019-02-01 & BOST625URN & 3.1        & 2023-05-01 & 2023-05-01\\\\\n",
       "\t 2019-03-01 & BOST625URN & 3.0        & 2023-05-01 & 2023-05-01\\\\\n",
       "\t 2019-04-01 & BOST625URN & 2.5        & 2023-05-01 & 2023-05-01\\\\\n",
       "\t 2019-05-01 & BOST625URN & 2.7        & 2023-05-01 & 2023-05-01\\\\\n",
       "\t 2019-06-01 & BOST625URN & 2.9        & 2023-05-01 & 2023-05-01\\\\\n",
       "\t 2019-07-01 & BOST625URN & 3.1        & 2023-05-01 & 2023-05-01\\\\\n",
       "\t 2019-08-01 & BOST625URN & 2.8        & 2023-05-01 & 2023-05-01\\\\\n",
       "\t 2019-09-01 & BOST625URN & 2.6        & 2023-05-01 & 2023-05-01\\\\\n",
       "\t 2019-10-01 & BOST625URN & 2.4        & 2023-05-01 & 2023-05-01\\\\\n",
       "\t 2019-11-01 & BOST625URN & 2.3        & 2023-05-01 & 2023-05-01\\\\\n",
       "\t 2019-12-01 & BOST625URN & 2.3        & 2023-05-01 & 2023-05-01\\\\\n",
       "\\end{tabular}\n"
      ],
      "text/markdown": [
       "\n",
       "| date | series_id | value | realtime_start | realtime_end |\n",
       "|---|---|---|---|---|\n",
       "| 1992-01-01 | BOST625URN | 8.8        | 2023-05-01 | 2023-05-01 |\n",
       "| 1992-02-01 | BOST625URN | 8.7        | 2023-05-01 | 2023-05-01 |\n",
       "| 1992-03-01 | BOST625URN | 8.4        | 2023-05-01 | 2023-05-01 |\n",
       "| 1992-04-01 | BOST625URN | 7.9        | 2023-05-01 | 2023-05-01 |\n",
       "| 1992-05-01 | BOST625URN | 8.2        | 2023-05-01 | 2023-05-01 |\n",
       "| 1992-06-01 | BOST625URN | 8.8        | 2023-05-01 | 2023-05-01 |\n",
       "| 1992-07-01 | BOST625URN | 8.5        | 2023-05-01 | 2023-05-01 |\n",
       "| 1992-08-01 | BOST625URN | 8.3        | 2023-05-01 | 2023-05-01 |\n",
       "| 1992-09-01 | BOST625URN | 8.5        | 2023-05-01 | 2023-05-01 |\n",
       "| 1992-10-01 | BOST625URN | 7.7        | 2023-05-01 | 2023-05-01 |\n",
       "| 1992-11-01 | BOST625URN | 7.6        | 2023-05-01 | 2023-05-01 |\n",
       "| 1992-12-01 | BOST625URN | 7.4        | 2023-05-01 | 2023-05-01 |\n",
       "| 1993-01-01 | BOST625URN | 8.1        | 2023-05-01 | 2023-05-01 |\n",
       "| 1993-02-01 | BOST625URN | 7.8        | 2023-05-01 | 2023-05-01 |\n",
       "| 1993-03-01 | BOST625URN | 7.4        | 2023-05-01 | 2023-05-01 |\n",
       "| 1993-04-01 | BOST625URN | 6.8        | 2023-05-01 | 2023-05-01 |\n",
       "| 1993-05-01 | BOST625URN | 6.8        | 2023-05-01 | 2023-05-01 |\n",
       "| 1993-06-01 | BOST625URN | 7.1        | 2023-05-01 | 2023-05-01 |\n",
       "| 1993-07-01 | BOST625URN | 6.9        | 2023-05-01 | 2023-05-01 |\n",
       "| 1993-08-01 | BOST625URN | 6.5        | 2023-05-01 | 2023-05-01 |\n",
       "| 1993-09-01 | BOST625URN | 6.5        | 2023-05-01 | 2023-05-01 |\n",
       "| 1993-10-01 | BOST625URN | 6.1        | 2023-05-01 | 2023-05-01 |\n",
       "| 1993-11-01 | BOST625URN | 5.7        | 2023-05-01 | 2023-05-01 |\n",
       "| 1993-12-01 | BOST625URN | 5.5        | 2023-05-01 | 2023-05-01 |\n",
       "| 1994-01-01 | BOST625URN | 6.6        | 2023-05-01 | 2023-05-01 |\n",
       "| 1994-02-01 | BOST625URN | 6.3        | 2023-05-01 | 2023-05-01 |\n",
       "| 1994-03-01 | BOST625URN | 6.1        | 2023-05-01 | 2023-05-01 |\n",
       "| 1994-04-01 | BOST625URN | 5.6        | 2023-05-01 | 2023-05-01 |\n",
       "| 1994-05-01 | BOST625URN | 5.5        | 2023-05-01 | 2023-05-01 |\n",
       "| 1994-06-01 | BOST625URN | 5.9        | 2023-05-01 | 2023-05-01 |\n",
       "| ... | ... | ... | ... | ... |\n",
       "| 2017-07-01 | BOST625URN | 3.8        | 2023-05-01 | 2023-05-01 |\n",
       "| 2017-08-01 | BOST625URN | 3.6        | 2023-05-01 | 2023-05-01 |\n",
       "| 2017-09-01 | BOST625URN | 3.4        | 2023-05-01 | 2023-05-01 |\n",
       "| 2017-10-01 | BOST625URN | 3.1        | 2023-05-01 | 2023-05-01 |\n",
       "| 2017-11-01 | BOST625URN | 3.0        | 2023-05-01 | 2023-05-01 |\n",
       "| 2017-12-01 | BOST625URN | 3.0        | 2023-05-01 | 2023-05-01 |\n",
       "| 2018-01-01 | BOST625URN | 3.7        | 2023-05-01 | 2023-05-01 |\n",
       "| 2018-02-01 | BOST625URN | 3.6        | 2023-05-01 | 2023-05-01 |\n",
       "| 2018-03-01 | BOST625URN | 3.4        | 2023-05-01 | 2023-05-01 |\n",
       "| 2018-04-01 | BOST625URN | 3.0        | 2023-05-01 | 2023-05-01 |\n",
       "| 2018-05-01 | BOST625URN | 3.0        | 2023-05-01 | 2023-05-01 |\n",
       "| 2018-06-01 | BOST625URN | 3.5        | 2023-05-01 | 2023-05-01 |\n",
       "| 2018-07-01 | BOST625URN | 3.4        | 2023-05-01 | 2023-05-01 |\n",
       "| 2018-08-01 | BOST625URN | 3.1        | 2023-05-01 | 2023-05-01 |\n",
       "| 2018-09-01 | BOST625URN | 2.9        | 2023-05-01 | 2023-05-01 |\n",
       "| 2018-10-01 | BOST625URN | 2.7        | 2023-05-01 | 2023-05-01 |\n",
       "| 2018-11-01 | BOST625URN | 2.5        | 2023-05-01 | 2023-05-01 |\n",
       "| 2018-12-01 | BOST625URN | 2.6        | 2023-05-01 | 2023-05-01 |\n",
       "| 2019-01-01 | BOST625URN | 3.5        | 2023-05-01 | 2023-05-01 |\n",
       "| 2019-02-01 | BOST625URN | 3.1        | 2023-05-01 | 2023-05-01 |\n",
       "| 2019-03-01 | BOST625URN | 3.0        | 2023-05-01 | 2023-05-01 |\n",
       "| 2019-04-01 | BOST625URN | 2.5        | 2023-05-01 | 2023-05-01 |\n",
       "| 2019-05-01 | BOST625URN | 2.7        | 2023-05-01 | 2023-05-01 |\n",
       "| 2019-06-01 | BOST625URN | 2.9        | 2023-05-01 | 2023-05-01 |\n",
       "| 2019-07-01 | BOST625URN | 3.1        | 2023-05-01 | 2023-05-01 |\n",
       "| 2019-08-01 | BOST625URN | 2.8        | 2023-05-01 | 2023-05-01 |\n",
       "| 2019-09-01 | BOST625URN | 2.6        | 2023-05-01 | 2023-05-01 |\n",
       "| 2019-10-01 | BOST625URN | 2.4        | 2023-05-01 | 2023-05-01 |\n",
       "| 2019-11-01 | BOST625URN | 2.3        | 2023-05-01 | 2023-05-01 |\n",
       "| 2019-12-01 | BOST625URN | 2.3        | 2023-05-01 | 2023-05-01 |\n",
       "\n"
      ],
      "text/plain": [
       "    date       series_id  value realtime_start realtime_end\n",
       "1   1992-01-01 BOST625URN 8.8   2023-05-01     2023-05-01  \n",
       "2   1992-02-01 BOST625URN 8.7   2023-05-01     2023-05-01  \n",
       "3   1992-03-01 BOST625URN 8.4   2023-05-01     2023-05-01  \n",
       "4   1992-04-01 BOST625URN 7.9   2023-05-01     2023-05-01  \n",
       "5   1992-05-01 BOST625URN 8.2   2023-05-01     2023-05-01  \n",
       "6   1992-06-01 BOST625URN 8.8   2023-05-01     2023-05-01  \n",
       "7   1992-07-01 BOST625URN 8.5   2023-05-01     2023-05-01  \n",
       "8   1992-08-01 BOST625URN 8.3   2023-05-01     2023-05-01  \n",
       "9   1992-09-01 BOST625URN 8.5   2023-05-01     2023-05-01  \n",
       "10  1992-10-01 BOST625URN 7.7   2023-05-01     2023-05-01  \n",
       "11  1992-11-01 BOST625URN 7.6   2023-05-01     2023-05-01  \n",
       "12  1992-12-01 BOST625URN 7.4   2023-05-01     2023-05-01  \n",
       "13  1993-01-01 BOST625URN 8.1   2023-05-01     2023-05-01  \n",
       "14  1993-02-01 BOST625URN 7.8   2023-05-01     2023-05-01  \n",
       "15  1993-03-01 BOST625URN 7.4   2023-05-01     2023-05-01  \n",
       "16  1993-04-01 BOST625URN 6.8   2023-05-01     2023-05-01  \n",
       "17  1993-05-01 BOST625URN 6.8   2023-05-01     2023-05-01  \n",
       "18  1993-06-01 BOST625URN 7.1   2023-05-01     2023-05-01  \n",
       "19  1993-07-01 BOST625URN 6.9   2023-05-01     2023-05-01  \n",
       "20  1993-08-01 BOST625URN 6.5   2023-05-01     2023-05-01  \n",
       "21  1993-09-01 BOST625URN 6.5   2023-05-01     2023-05-01  \n",
       "22  1993-10-01 BOST625URN 6.1   2023-05-01     2023-05-01  \n",
       "23  1993-11-01 BOST625URN 5.7   2023-05-01     2023-05-01  \n",
       "24  1993-12-01 BOST625URN 5.5   2023-05-01     2023-05-01  \n",
       "25  1994-01-01 BOST625URN 6.6   2023-05-01     2023-05-01  \n",
       "26  1994-02-01 BOST625URN 6.3   2023-05-01     2023-05-01  \n",
       "27  1994-03-01 BOST625URN 6.1   2023-05-01     2023-05-01  \n",
       "28  1994-04-01 BOST625URN 5.6   2023-05-01     2023-05-01  \n",
       "29  1994-05-01 BOST625URN 5.5   2023-05-01     2023-05-01  \n",
       "30  1994-06-01 BOST625URN 5.9   2023-05-01     2023-05-01  \n",
       "... ...        ...        ...   ...            ...         \n",
       "307 2017-07-01 BOST625URN 3.8   2023-05-01     2023-05-01  \n",
       "308 2017-08-01 BOST625URN 3.6   2023-05-01     2023-05-01  \n",
       "309 2017-09-01 BOST625URN 3.4   2023-05-01     2023-05-01  \n",
       "310 2017-10-01 BOST625URN 3.1   2023-05-01     2023-05-01  \n",
       "311 2017-11-01 BOST625URN 3.0   2023-05-01     2023-05-01  \n",
       "312 2017-12-01 BOST625URN 3.0   2023-05-01     2023-05-01  \n",
       "313 2018-01-01 BOST625URN 3.7   2023-05-01     2023-05-01  \n",
       "314 2018-02-01 BOST625URN 3.6   2023-05-01     2023-05-01  \n",
       "315 2018-03-01 BOST625URN 3.4   2023-05-01     2023-05-01  \n",
       "316 2018-04-01 BOST625URN 3.0   2023-05-01     2023-05-01  \n",
       "317 2018-05-01 BOST625URN 3.0   2023-05-01     2023-05-01  \n",
       "318 2018-06-01 BOST625URN 3.5   2023-05-01     2023-05-01  \n",
       "319 2018-07-01 BOST625URN 3.4   2023-05-01     2023-05-01  \n",
       "320 2018-08-01 BOST625URN 3.1   2023-05-01     2023-05-01  \n",
       "321 2018-09-01 BOST625URN 2.9   2023-05-01     2023-05-01  \n",
       "322 2018-10-01 BOST625URN 2.7   2023-05-01     2023-05-01  \n",
       "323 2018-11-01 BOST625URN 2.5   2023-05-01     2023-05-01  \n",
       "324 2018-12-01 BOST625URN 2.6   2023-05-01     2023-05-01  \n",
       "325 2019-01-01 BOST625URN 3.5   2023-05-01     2023-05-01  \n",
       "326 2019-02-01 BOST625URN 3.1   2023-05-01     2023-05-01  \n",
       "327 2019-03-01 BOST625URN 3.0   2023-05-01     2023-05-01  \n",
       "328 2019-04-01 BOST625URN 2.5   2023-05-01     2023-05-01  \n",
       "329 2019-05-01 BOST625URN 2.7   2023-05-01     2023-05-01  \n",
       "330 2019-06-01 BOST625URN 2.9   2023-05-01     2023-05-01  \n",
       "331 2019-07-01 BOST625URN 3.1   2023-05-01     2023-05-01  \n",
       "332 2019-08-01 BOST625URN 2.8   2023-05-01     2023-05-01  \n",
       "333 2019-09-01 BOST625URN 2.6   2023-05-01     2023-05-01  \n",
       "334 2019-10-01 BOST625URN 2.4   2023-05-01     2023-05-01  \n",
       "335 2019-11-01 BOST625URN 2.3   2023-05-01     2023-05-01  \n",
       "336 2019-12-01 BOST625URN 2.3   2023-05-01     2023-05-01  "
      ]
     },
     "metadata": {},
     "output_type": "display_data"
    }
   ],
   "source": [
    "data2"
   ]
  },
  {
   "cell_type": "code",
   "execution_count": 8,
   "id": "6d1d6e9c",
   "metadata": {},
   "outputs": [],
   "source": [
    "# Génération d'une série temporelle"
   ]
  },
  {
   "cell_type": "code",
   "execution_count": 21,
   "id": "019573e3",
   "metadata": {},
   "outputs": [],
   "source": [
    "data.ts=ts(data2$value,start=c(1992,1),end=c(2019,12),freq=12)"
   ]
  },
  {
   "cell_type": "code",
   "execution_count": 22,
   "id": "8f31e773",
   "metadata": {},
   "outputs": [
    {
     "name": "stderr",
     "output_type": "stream",
     "text": [
      "ERROR while rich displaying an object: Error in repr_matrix_generic(obj, \"\\n%s%s\\n\", sprintf(\"|%%s\\n|%s|\\n\", : argument formel \"cols\" correspondant à plusieurs arguments fournis\n",
      "\n",
      "Traceback:\n",
      "1. FUN(X[[i]], ...)\n",
      "2. tryCatch(withCallingHandlers({\n",
      " .     if (!mime %in% names(repr::mime2repr)) \n",
      " .         stop(\"No repr_* for mimetype \", mime, \" in repr::mime2repr\")\n",
      " .     rpr <- repr::mime2repr[[mime]](obj)\n",
      " .     if (is.null(rpr)) \n",
      " .         return(NULL)\n",
      " .     prepare_content(is.raw(rpr), rpr)\n",
      " . }, error = error_handler), error = outer_handler)\n",
      "3. tryCatchList(expr, classes, parentenv, handlers)\n",
      "4. tryCatchOne(expr, names, parentenv, handlers[[1L]])\n",
      "5. doTryCatch(return(expr), name, parentenv, handler)\n",
      "6. withCallingHandlers({\n",
      " .     if (!mime %in% names(repr::mime2repr)) \n",
      " .         stop(\"No repr_* for mimetype \", mime, \" in repr::mime2repr\")\n",
      " .     rpr <- repr::mime2repr[[mime]](obj)\n",
      " .     if (is.null(rpr)) \n",
      " .         return(NULL)\n",
      " .     prepare_content(is.raw(rpr), rpr)\n",
      " . }, error = error_handler)\n",
      "7. repr::mime2repr[[mime]](obj)\n",
      "8. repr_markdown.ts(obj)\n",
      "9. repr_ts_generic(obj, repr_markdown.matrix, ...)\n",
      "10. repr_func(m, ..., rows = nrow(m), cols = ncol(m))\n"
     ]
    },
    {
     "data": {
      "text/html": [
       "<table>\n",
       "<thead><tr><th></th><th scope=col>Jan</th><th scope=col>Feb</th><th scope=col>Mar</th><th scope=col>Apr</th><th scope=col>May</th><th scope=col>Jun</th><th scope=col>Jul</th><th scope=col>Aug</th><th scope=col>Sep</th><th scope=col>Oct</th><th scope=col>Nov</th><th scope=col>Dec</th></tr></thead>\n",
       "<tbody>\n",
       "\t<tr><th scope=row>1992</th><td>8.8</td><td>8.7</td><td>8.4</td><td>7.9</td><td>8.2</td><td>8.8</td><td>8.5</td><td>8.3</td><td>8.5</td><td>7.7</td><td>7.6</td><td>7.4</td></tr>\n",
       "\t<tr><th scope=row>1993</th><td>8.1</td><td>7.8</td><td>7.4</td><td>6.8</td><td>6.8</td><td>7.1</td><td>6.9</td><td>6.5</td><td>6.5</td><td>6.1</td><td>5.7</td><td>5.5</td></tr>\n",
       "\t<tr><th scope=row>1994</th><td>6.6</td><td>6.3</td><td>6.1</td><td>5.6</td><td>5.5</td><td>5.9</td><td>6.0</td><td>5.8</td><td>5.8</td><td>5.3</td><td>5.0</td><td>4.8</td></tr>\n",
       "\t<tr><th scope=row>1995</th><td>5.7</td><td>5.3</td><td>5.2</td><td>5.1</td><td>5.0</td><td>5.3</td><td>5.3</td><td>5.0</td><td>5.0</td><td>4.4</td><td>4.1</td><td>4.0</td></tr>\n",
       "\t<tr><th scope=row>1996</th><td>4.9</td><td>4.6</td><td>4.5</td><td>4.1</td><td>4.2</td><td>4.3</td><td>4.4</td><td>4.0</td><td>4.1</td><td>3.7</td><td>3.6</td><td>3.5</td></tr>\n",
       "\t<tr><th scope=row>1997</th><td>4.4</td><td>4.1</td><td>4.1</td><td>3.5</td><td>3.6</td><td>4.0</td><td>3.9</td><td>3.7</td><td>3.7</td><td>3.2</td><td>2.9</td><td>2.9</td></tr>\n",
       "\t<tr><th scope=row>1998</th><td>3.6</td><td>3.4</td><td>3.4</td><td>2.7</td><td>2.9</td><td>3.3</td><td>3.2</td><td>3.0</td><td>3.2</td><td>2.7</td><td>2.6</td><td>2.6</td></tr>\n",
       "\t<tr><th scope=row>1999</th><td>3.3</td><td>3.3</td><td>3.1</td><td>2.9</td><td>2.9</td><td>3.3</td><td>3.3</td><td>3.0</td><td>3.2</td><td>2.7</td><td>2.6</td><td>2.5</td></tr>\n",
       "\t<tr><th scope=row>2000</th><td>3.4</td><td>3.2</td><td>3.0</td><td>2.4</td><td>2.5</td><td>2.8</td><td>2.8</td><td>2.5</td><td>2.5</td><td>2.1</td><td>2.1</td><td>2.2</td></tr>\n",
       "\t<tr><th scope=row>2001</th><td>3.2</td><td>3.1</td><td>3.3</td><td>3.0</td><td>3.2</td><td>3.7</td><td>3.9</td><td>4.0</td><td>4.1</td><td>4.0</td><td>4.2</td><td>4.4</td></tr>\n",
       "\t<tr><th scope=row>2002</th><td>5.4</td><td>5.2</td><td>5.2</td><td>5.0</td><td>5.0</td><td>5.4</td><td>5.5</td><td>5.2</td><td>5.3</td><td>5.0</td><td>5.1</td><td>5.2</td></tr>\n",
       "\t<tr><th scope=row>2003</th><td>6.0</td><td>5.8</td><td>5.8</td><td>5.4</td><td>5.6</td><td>6.2</td><td>6.0</td><td>5.7</td><td>5.7</td><td>5.2</td><td>5.1</td><td>4.9</td></tr>\n",
       "\t<tr><th scope=row>2004</th><td>5.7</td><td>5.4</td><td>5.4</td><td>4.7</td><td>4.9</td><td>5.2</td><td>5.1</td><td>4.7</td><td>4.6</td><td>4.3</td><td>4.3</td><td>4.2</td></tr>\n",
       "\t<tr><th scope=row>2005</th><td>5.0</td><td>5.0</td><td>4.7</td><td>4.3</td><td>4.4</td><td>4.7</td><td>4.6</td><td>4.3</td><td>4.5</td><td>4.1</td><td>4.3</td><td>4.1</td></tr>\n",
       "\t<tr><th scope=row>2006</th><td>4.7</td><td>4.8</td><td>4.5</td><td>4.3</td><td>4.3</td><td>4.6</td><td>4.7</td><td>4.4</td><td>4.4</td><td>3.9</td><td>4.0</td><td>4.0</td></tr>\n",
       "\t<tr><th scope=row>2007</th><td>4.8</td><td>4.6</td><td>4.2</td><td>3.9</td><td>4.1</td><td>4.4</td><td>4.4</td><td>4.0</td><td>4.1</td><td>3.7</td><td>3.7</td><td>3.9</td></tr>\n",
       "\t<tr><th scope=row>2008</th><td>4.6</td><td>4.5</td><td>4.4</td><td>3.9</td><td>4.6</td><td>5.0</td><td>5.1</td><td>5.0</td><td>5.2</td><td>5.0</td><td>5.2</td><td>5.7</td></tr>\n",
       "\t<tr><th scope=row>2009</th><td>7.0</td><td>7.3</td><td>7.2</td><td>6.9</td><td>7.5</td><td>8.0</td><td>8.0</td><td>7.8</td><td>8.0</td><td>7.5</td><td>7.3</td><td>7.5</td></tr>\n",
       "\t<tr><th scope=row>2010</th><td>8.4</td><td>8.2</td><td>7.8</td><td>7.3</td><td>7.3</td><td>7.5</td><td>7.6</td><td>7.2</td><td>7.2</td><td>6.8</td><td>6.8</td><td>6.7</td></tr>\n",
       "\t<tr><th scope=row>2011</th><td>7.4</td><td>7.1</td><td>6.7</td><td>6.3</td><td>6.5</td><td>6.9</td><td>6.9</td><td>6.5</td><td>6.6</td><td>6.1</td><td>5.8</td><td>5.8</td></tr>\n",
       "\t<tr><th scope=row>2012</th><td>6.5</td><td>6.4</td><td>6.1</td><td>5.7</td><td>6.0</td><td>6.4</td><td>6.6</td><td>6.2</td><td>6.0</td><td>5.8</td><td>5.6</td><td>5.8</td></tr>\n",
       "\t<tr><th scope=row>2013</th><td>6.8</td><td>6.4</td><td>6.1</td><td>5.7</td><td>6.1</td><td>6.5</td><td>6.5</td><td>6.0</td><td>6.0</td><td>5.8</td><td>5.4</td><td>5.3</td></tr>\n",
       "\t<tr><th scope=row>2014</th><td>5.9</td><td>5.9</td><td>5.6</td><td>4.9</td><td>5.2</td><td>5.4</td><td>5.6</td><td>5.3</td><td>5.1</td><td>4.6</td><td>4.5</td><td>4.3</td></tr>\n",
       "\t<tr><th scope=row>2015</th><td>5.1</td><td>4.9</td><td>4.5</td><td>4.2</td><td>4.5</td><td>4.6</td><td>4.6</td><td>4.2</td><td>4.2</td><td>3.8</td><td>3.7</td><td>3.7</td></tr>\n",
       "\t<tr><th scope=row>2016</th><td>4.2</td><td>4.1</td><td>4.0</td><td>3.6</td><td>3.5</td><td>3.9</td><td>3.8</td><td>3.5</td><td>3.5</td><td>3.2</td><td>3.0</td><td>3.1</td></tr>\n",
       "\t<tr><th scope=row>2017</th><td>3.9</td><td>3.8</td><td>3.5</td><td>3.2</td><td>3.4</td><td>3.7</td><td>3.8</td><td>3.6</td><td>3.4</td><td>3.1</td><td>3.0</td><td>3.0</td></tr>\n",
       "\t<tr><th scope=row>2018</th><td>3.7</td><td>3.6</td><td>3.4</td><td>3.0</td><td>3.0</td><td>3.5</td><td>3.4</td><td>3.1</td><td>2.9</td><td>2.7</td><td>2.5</td><td>2.6</td></tr>\n",
       "\t<tr><th scope=row>2019</th><td>3.5</td><td>3.1</td><td>3.0</td><td>2.5</td><td>2.7</td><td>2.9</td><td>3.1</td><td>2.8</td><td>2.6</td><td>2.4</td><td>2.3</td><td>2.3</td></tr>\n",
       "</tbody>\n",
       "</table>\n"
      ],
      "text/latex": [
       "\\begin{tabular}{r|llllllllllll}\n",
       "  & Jan & Feb & Mar & Apr & May & Jun & Jul & Aug & Sep & Oct & Nov & Dec\\\\\n",
       "\\hline\n",
       "\t1992 & 8.8 & 8.7 & 8.4 & 7.9 & 8.2 & 8.8 & 8.5 & 8.3 & 8.5 & 7.7 & 7.6 & 7.4\\\\\n",
       "\t1993 & 8.1 & 7.8 & 7.4 & 6.8 & 6.8 & 7.1 & 6.9 & 6.5 & 6.5 & 6.1 & 5.7 & 5.5\\\\\n",
       "\t1994 & 6.6 & 6.3 & 6.1 & 5.6 & 5.5 & 5.9 & 6.0 & 5.8 & 5.8 & 5.3 & 5.0 & 4.8\\\\\n",
       "\t1995 & 5.7 & 5.3 & 5.2 & 5.1 & 5.0 & 5.3 & 5.3 & 5.0 & 5.0 & 4.4 & 4.1 & 4.0\\\\\n",
       "\t1996 & 4.9 & 4.6 & 4.5 & 4.1 & 4.2 & 4.3 & 4.4 & 4.0 & 4.1 & 3.7 & 3.6 & 3.5\\\\\n",
       "\t1997 & 4.4 & 4.1 & 4.1 & 3.5 & 3.6 & 4.0 & 3.9 & 3.7 & 3.7 & 3.2 & 2.9 & 2.9\\\\\n",
       "\t1998 & 3.6 & 3.4 & 3.4 & 2.7 & 2.9 & 3.3 & 3.2 & 3.0 & 3.2 & 2.7 & 2.6 & 2.6\\\\\n",
       "\t1999 & 3.3 & 3.3 & 3.1 & 2.9 & 2.9 & 3.3 & 3.3 & 3.0 & 3.2 & 2.7 & 2.6 & 2.5\\\\\n",
       "\t2000 & 3.4 & 3.2 & 3.0 & 2.4 & 2.5 & 2.8 & 2.8 & 2.5 & 2.5 & 2.1 & 2.1 & 2.2\\\\\n",
       "\t2001 & 3.2 & 3.1 & 3.3 & 3.0 & 3.2 & 3.7 & 3.9 & 4.0 & 4.1 & 4.0 & 4.2 & 4.4\\\\\n",
       "\t2002 & 5.4 & 5.2 & 5.2 & 5.0 & 5.0 & 5.4 & 5.5 & 5.2 & 5.3 & 5.0 & 5.1 & 5.2\\\\\n",
       "\t2003 & 6.0 & 5.8 & 5.8 & 5.4 & 5.6 & 6.2 & 6.0 & 5.7 & 5.7 & 5.2 & 5.1 & 4.9\\\\\n",
       "\t2004 & 5.7 & 5.4 & 5.4 & 4.7 & 4.9 & 5.2 & 5.1 & 4.7 & 4.6 & 4.3 & 4.3 & 4.2\\\\\n",
       "\t2005 & 5.0 & 5.0 & 4.7 & 4.3 & 4.4 & 4.7 & 4.6 & 4.3 & 4.5 & 4.1 & 4.3 & 4.1\\\\\n",
       "\t2006 & 4.7 & 4.8 & 4.5 & 4.3 & 4.3 & 4.6 & 4.7 & 4.4 & 4.4 & 3.9 & 4.0 & 4.0\\\\\n",
       "\t2007 & 4.8 & 4.6 & 4.2 & 3.9 & 4.1 & 4.4 & 4.4 & 4.0 & 4.1 & 3.7 & 3.7 & 3.9\\\\\n",
       "\t2008 & 4.6 & 4.5 & 4.4 & 3.9 & 4.6 & 5.0 & 5.1 & 5.0 & 5.2 & 5.0 & 5.2 & 5.7\\\\\n",
       "\t2009 & 7.0 & 7.3 & 7.2 & 6.9 & 7.5 & 8.0 & 8.0 & 7.8 & 8.0 & 7.5 & 7.3 & 7.5\\\\\n",
       "\t2010 & 8.4 & 8.2 & 7.8 & 7.3 & 7.3 & 7.5 & 7.6 & 7.2 & 7.2 & 6.8 & 6.8 & 6.7\\\\\n",
       "\t2011 & 7.4 & 7.1 & 6.7 & 6.3 & 6.5 & 6.9 & 6.9 & 6.5 & 6.6 & 6.1 & 5.8 & 5.8\\\\\n",
       "\t2012 & 6.5 & 6.4 & 6.1 & 5.7 & 6.0 & 6.4 & 6.6 & 6.2 & 6.0 & 5.8 & 5.6 & 5.8\\\\\n",
       "\t2013 & 6.8 & 6.4 & 6.1 & 5.7 & 6.1 & 6.5 & 6.5 & 6.0 & 6.0 & 5.8 & 5.4 & 5.3\\\\\n",
       "\t2014 & 5.9 & 5.9 & 5.6 & 4.9 & 5.2 & 5.4 & 5.6 & 5.3 & 5.1 & 4.6 & 4.5 & 4.3\\\\\n",
       "\t2015 & 5.1 & 4.9 & 4.5 & 4.2 & 4.5 & 4.6 & 4.6 & 4.2 & 4.2 & 3.8 & 3.7 & 3.7\\\\\n",
       "\t2016 & 4.2 & 4.1 & 4.0 & 3.6 & 3.5 & 3.9 & 3.8 & 3.5 & 3.5 & 3.2 & 3.0 & 3.1\\\\\n",
       "\t2017 & 3.9 & 3.8 & 3.5 & 3.2 & 3.4 & 3.7 & 3.8 & 3.6 & 3.4 & 3.1 & 3.0 & 3.0\\\\\n",
       "\t2018 & 3.7 & 3.6 & 3.4 & 3.0 & 3.0 & 3.5 & 3.4 & 3.1 & 2.9 & 2.7 & 2.5 & 2.6\\\\\n",
       "\t2019 & 3.5 & 3.1 & 3.0 & 2.5 & 2.7 & 2.9 & 3.1 & 2.8 & 2.6 & 2.4 & 2.3 & 2.3\\\\\n",
       "\\end{tabular}\n"
      ],
      "text/plain": [
       "     Jan Feb Mar Apr May Jun Jul Aug Sep Oct Nov Dec\n",
       "1992 8.8 8.7 8.4 7.9 8.2 8.8 8.5 8.3 8.5 7.7 7.6 7.4\n",
       "1993 8.1 7.8 7.4 6.8 6.8 7.1 6.9 6.5 6.5 6.1 5.7 5.5\n",
       "1994 6.6 6.3 6.1 5.6 5.5 5.9 6.0 5.8 5.8 5.3 5.0 4.8\n",
       "1995 5.7 5.3 5.2 5.1 5.0 5.3 5.3 5.0 5.0 4.4 4.1 4.0\n",
       "1996 4.9 4.6 4.5 4.1 4.2 4.3 4.4 4.0 4.1 3.7 3.6 3.5\n",
       "1997 4.4 4.1 4.1 3.5 3.6 4.0 3.9 3.7 3.7 3.2 2.9 2.9\n",
       "1998 3.6 3.4 3.4 2.7 2.9 3.3 3.2 3.0 3.2 2.7 2.6 2.6\n",
       "1999 3.3 3.3 3.1 2.9 2.9 3.3 3.3 3.0 3.2 2.7 2.6 2.5\n",
       "2000 3.4 3.2 3.0 2.4 2.5 2.8 2.8 2.5 2.5 2.1 2.1 2.2\n",
       "2001 3.2 3.1 3.3 3.0 3.2 3.7 3.9 4.0 4.1 4.0 4.2 4.4\n",
       "2002 5.4 5.2 5.2 5.0 5.0 5.4 5.5 5.2 5.3 5.0 5.1 5.2\n",
       "2003 6.0 5.8 5.8 5.4 5.6 6.2 6.0 5.7 5.7 5.2 5.1 4.9\n",
       "2004 5.7 5.4 5.4 4.7 4.9 5.2 5.1 4.7 4.6 4.3 4.3 4.2\n",
       "2005 5.0 5.0 4.7 4.3 4.4 4.7 4.6 4.3 4.5 4.1 4.3 4.1\n",
       "2006 4.7 4.8 4.5 4.3 4.3 4.6 4.7 4.4 4.4 3.9 4.0 4.0\n",
       "2007 4.8 4.6 4.2 3.9 4.1 4.4 4.4 4.0 4.1 3.7 3.7 3.9\n",
       "2008 4.6 4.5 4.4 3.9 4.6 5.0 5.1 5.0 5.2 5.0 5.2 5.7\n",
       "2009 7.0 7.3 7.2 6.9 7.5 8.0 8.0 7.8 8.0 7.5 7.3 7.5\n",
       "2010 8.4 8.2 7.8 7.3 7.3 7.5 7.6 7.2 7.2 6.8 6.8 6.7\n",
       "2011 7.4 7.1 6.7 6.3 6.5 6.9 6.9 6.5 6.6 6.1 5.8 5.8\n",
       "2012 6.5 6.4 6.1 5.7 6.0 6.4 6.6 6.2 6.0 5.8 5.6 5.8\n",
       "2013 6.8 6.4 6.1 5.7 6.1 6.5 6.5 6.0 6.0 5.8 5.4 5.3\n",
       "2014 5.9 5.9 5.6 4.9 5.2 5.4 5.6 5.3 5.1 4.6 4.5 4.3\n",
       "2015 5.1 4.9 4.5 4.2 4.5 4.6 4.6 4.2 4.2 3.8 3.7 3.7\n",
       "2016 4.2 4.1 4.0 3.6 3.5 3.9 3.8 3.5 3.5 3.2 3.0 3.1\n",
       "2017 3.9 3.8 3.5 3.2 3.4 3.7 3.8 3.6 3.4 3.1 3.0 3.0\n",
       "2018 3.7 3.6 3.4 3.0 3.0 3.5 3.4 3.1 2.9 2.7 2.5 2.6\n",
       "2019 3.5 3.1 3.0 2.5 2.7 2.9 3.1 2.8 2.6 2.4 2.3 2.3"
      ]
     },
     "metadata": {},
     "output_type": "display_data"
    }
   ],
   "source": [
    "data.ts"
   ]
  },
  {
   "cell_type": "markdown",
   "id": "80480453",
   "metadata": {},
   "source": [
    "#Visualisation"
   ]
  },
  {
   "cell_type": "code",
   "execution_count": 23,
   "id": "d09233a4",
   "metadata": {},
   "outputs": [
    {
     "name": "stdout",
     "output_type": "stream",
     "text": [
      "Classes 'tbl_df', 'tbl' and 'data.frame':\t336 obs. of  5 variables:\n",
      " $ date          : Date, format: \"1992-01-01\" \"1992-02-01\" ...\n",
      " $ series_id     : chr  \"BOST625URN\" \"BOST625URN\" \"BOST625URN\" \"BOST625URN\" ...\n",
      " $ value         : num  8.8 8.7 8.4 7.9 8.2 8.8 8.5 8.3 8.5 7.7 ...\n",
      " $ realtime_start: Date, format: \"2023-05-01\" \"2023-05-01\" ...\n",
      " $ realtime_end  : Date, format: \"2023-05-01\" \"2023-05-01\" ...\n"
     ]
    }
   ],
   "source": [
    "str(data2)"
   ]
  },
  {
   "cell_type": "code",
   "execution_count": 24,
   "id": "93adb406",
   "metadata": {},
   "outputs": [
    {
     "data": {
      "text/plain": [
       "      date             series_id             value      realtime_start      \n",
       " Min.   :1992-01-01   Length:336         Min.   :2.10   Min.   :2023-05-01  \n",
       " 1st Qu.:1998-12-24   Class :character   1st Qu.:3.60   1st Qu.:2023-05-01  \n",
       " Median :2005-12-16   Mode  :character   Median :4.60   Median :2023-05-01  \n",
       " Mean   :2005-12-15                      Mean   :4.84   Mean   :2023-05-01  \n",
       " 3rd Qu.:2012-12-08                      3rd Qu.:5.80   3rd Qu.:2023-05-01  \n",
       " Max.   :2019-12-01                      Max.   :8.80   Max.   :2023-05-01  \n",
       "  realtime_end       \n",
       " Min.   :2023-05-01  \n",
       " 1st Qu.:2023-05-01  \n",
       " Median :2023-05-01  \n",
       " Mean   :2023-05-01  \n",
       " 3rd Qu.:2023-05-01  \n",
       " Max.   :2023-05-01  "
      ]
     },
     "metadata": {},
     "output_type": "display_data"
    }
   ],
   "source": [
    "summary(data2)"
   ]
  },
  {
   "cell_type": "code",
   "execution_count": 25,
   "id": "79bfb349",
   "metadata": {},
   "outputs": [
    {
     "data": {
      "text/html": [
       "<ol class=list-inline>\n",
       "\t<li>1992</li>\n",
       "\t<li>1</li>\n",
       "</ol>\n"
      ],
      "text/latex": [
       "\\begin{enumerate*}\n",
       "\\item 1992\n",
       "\\item 1\n",
       "\\end{enumerate*}\n"
      ],
      "text/markdown": [
       "1. 1992\n",
       "2. 1\n",
       "\n",
       "\n"
      ],
      "text/plain": [
       "[1] 1992    1"
      ]
     },
     "metadata": {},
     "output_type": "display_data"
    },
    {
     "data": {
      "text/html": [
       "<ol class=list-inline>\n",
       "\t<li>2019</li>\n",
       "\t<li>12</li>\n",
       "</ol>\n"
      ],
      "text/latex": [
       "\\begin{enumerate*}\n",
       "\\item 2019\n",
       "\\item 12\n",
       "\\end{enumerate*}\n"
      ],
      "text/markdown": [
       "1. 2019\n",
       "2. 12\n",
       "\n",
       "\n"
      ],
      "text/plain": [
       "[1] 2019   12"
      ]
     },
     "metadata": {},
     "output_type": "display_data"
    }
   ],
   "source": [
    "start(data.ts)\n",
    "end(data.ts)"
   ]
  },
  {
   "cell_type": "code",
   "execution_count": 26,
   "id": "cc67e8e9",
   "metadata": {},
   "outputs": [
    {
     "name": "stderr",
     "output_type": "stream",
     "text": [
      "ERROR while rich displaying an object: Error in repr_matrix_generic(obj, \"\\n%s%s\\n\", sprintf(\"|%%s\\n|%s|\\n\", : argument formel \"cols\" correspondant à plusieurs arguments fournis\n",
      "\n",
      "Traceback:\n",
      "1. FUN(X[[i]], ...)\n",
      "2. tryCatch(withCallingHandlers({\n",
      " .     if (!mime %in% names(repr::mime2repr)) \n",
      " .         stop(\"No repr_* for mimetype \", mime, \" in repr::mime2repr\")\n",
      " .     rpr <- repr::mime2repr[[mime]](obj)\n",
      " .     if (is.null(rpr)) \n",
      " .         return(NULL)\n",
      " .     prepare_content(is.raw(rpr), rpr)\n",
      " . }, error = error_handler), error = outer_handler)\n",
      "3. tryCatchList(expr, classes, parentenv, handlers)\n",
      "4. tryCatchOne(expr, names, parentenv, handlers[[1L]])\n",
      "5. doTryCatch(return(expr), name, parentenv, handler)\n",
      "6. withCallingHandlers({\n",
      " .     if (!mime %in% names(repr::mime2repr)) \n",
      " .         stop(\"No repr_* for mimetype \", mime, \" in repr::mime2repr\")\n",
      " .     rpr <- repr::mime2repr[[mime]](obj)\n",
      " .     if (is.null(rpr)) \n",
      " .         return(NULL)\n",
      " .     prepare_content(is.raw(rpr), rpr)\n",
      " . }, error = error_handler)\n",
      "7. repr::mime2repr[[mime]](obj)\n",
      "8. repr_markdown.ts(obj)\n",
      "9. repr_ts_generic(obj, repr_markdown.matrix, ...)\n",
      "10. repr_func(m, ..., rows = nrow(m), cols = ncol(m))\n"
     ]
    },
    {
     "data": {
      "text/html": [
       "<table>\n",
       "<thead><tr><th></th><th scope=col>Jan</th><th scope=col>Feb</th><th scope=col>Mar</th><th scope=col>Apr</th><th scope=col>May</th><th scope=col>Jun</th><th scope=col>Jul</th><th scope=col>Aug</th><th scope=col>Sep</th><th scope=col>Oct</th><th scope=col>Nov</th><th scope=col>Dec</th></tr></thead>\n",
       "<tbody>\n",
       "\t<tr><th scope=row>1992</th><td>8.8</td><td>8.7</td><td>8.4</td><td>7.9</td><td>8.2</td><td>8.8</td><td>8.5</td><td>8.3</td><td>8.5</td><td>7.7</td><td>7.6</td><td>7.4</td></tr>\n",
       "\t<tr><th scope=row>1993</th><td>8.1</td><td>7.8</td><td>7.4</td><td>6.8</td><td>6.8</td><td>7.1</td><td>6.9</td><td>6.5</td><td>6.5</td><td>6.1</td><td>5.7</td><td>5.5</td></tr>\n",
       "\t<tr><th scope=row>1994</th><td>6.6</td><td>6.3</td><td>6.1</td><td>5.6</td><td>5.5</td><td>5.9</td><td>6.0</td><td>5.8</td><td>5.8</td><td>5.3</td><td>5.0</td><td>4.8</td></tr>\n",
       "\t<tr><th scope=row>1995</th><td>5.7</td><td>5.3</td><td>5.2</td><td>5.1</td><td>5.0</td><td>5.3</td><td>5.3</td><td>5.0</td><td>5.0</td><td>4.4</td><td>4.1</td><td>4.0</td></tr>\n",
       "\t<tr><th scope=row>1996</th><td>4.9</td><td>4.6</td><td>4.5</td><td>4.1</td><td>4.2</td><td>4.3</td><td>4.4</td><td>4.0</td><td>4.1</td><td>3.7</td><td>3.6</td><td>3.5</td></tr>\n",
       "\t<tr><th scope=row>1997</th><td>4.4</td><td>4.1</td><td>4.1</td><td>3.5</td><td>3.6</td><td>4.0</td><td>3.9</td><td>3.7</td><td>3.7</td><td>3.2</td><td>2.9</td><td>2.9</td></tr>\n",
       "\t<tr><th scope=row>1998</th><td>3.6</td><td>3.4</td><td>3.4</td><td>2.7</td><td>2.9</td><td>3.3</td><td>3.2</td><td>3.0</td><td>3.2</td><td>2.7</td><td>2.6</td><td>2.6</td></tr>\n",
       "\t<tr><th scope=row>1999</th><td>3.3</td><td>3.3</td><td>3.1</td><td>2.9</td><td>2.9</td><td>3.3</td><td>3.3</td><td>3.0</td><td>3.2</td><td>2.7</td><td>2.6</td><td>2.5</td></tr>\n",
       "\t<tr><th scope=row>2000</th><td>3.4</td><td>3.2</td><td>3.0</td><td>2.4</td><td>2.5</td><td>2.8</td><td>2.8</td><td>2.5</td><td>2.5</td><td>2.1</td><td>2.1</td><td>2.2</td></tr>\n",
       "\t<tr><th scope=row>2001</th><td>3.2</td><td>3.1</td><td>3.3</td><td>3.0</td><td>3.2</td><td>3.7</td><td>3.9</td><td>4.0</td><td>4.1</td><td>4.0</td><td>4.2</td><td>4.4</td></tr>\n",
       "\t<tr><th scope=row>2002</th><td>5.4</td><td>5.2</td><td>5.2</td><td>5.0</td><td>5.0</td><td>5.4</td><td>5.5</td><td>5.2</td><td>5.3</td><td>5.0</td><td>5.1</td><td>5.2</td></tr>\n",
       "\t<tr><th scope=row>2003</th><td>6.0</td><td>5.8</td><td>5.8</td><td>5.4</td><td>5.6</td><td>6.2</td><td>6.0</td><td>5.7</td><td>5.7</td><td>5.2</td><td>5.1</td><td>4.9</td></tr>\n",
       "\t<tr><th scope=row>2004</th><td>5.7</td><td>5.4</td><td>5.4</td><td>4.7</td><td>4.9</td><td>5.2</td><td>5.1</td><td>4.7</td><td>4.6</td><td>4.3</td><td>4.3</td><td>4.2</td></tr>\n",
       "\t<tr><th scope=row>2005</th><td>5.0</td><td>5.0</td><td>4.7</td><td>4.3</td><td>4.4</td><td>4.7</td><td>4.6</td><td>4.3</td><td>4.5</td><td>4.1</td><td>4.3</td><td>4.1</td></tr>\n",
       "\t<tr><th scope=row>2006</th><td>4.7</td><td>4.8</td><td>4.5</td><td>4.3</td><td>4.3</td><td>4.6</td><td>4.7</td><td>4.4</td><td>4.4</td><td>3.9</td><td>4.0</td><td>4.0</td></tr>\n",
       "\t<tr><th scope=row>2007</th><td>4.8</td><td>4.6</td><td>4.2</td><td>3.9</td><td>4.1</td><td>4.4</td><td>4.4</td><td>4.0</td><td>4.1</td><td>3.7</td><td>3.7</td><td>3.9</td></tr>\n",
       "\t<tr><th scope=row>2008</th><td>4.6</td><td>4.5</td><td>4.4</td><td>3.9</td><td>4.6</td><td>5.0</td><td>5.1</td><td>5.0</td><td>5.2</td><td>5.0</td><td>5.2</td><td>5.7</td></tr>\n",
       "\t<tr><th scope=row>2009</th><td>7.0</td><td>7.3</td><td>7.2</td><td>6.9</td><td>7.5</td><td>8.0</td><td>8.0</td><td>7.8</td><td>8.0</td><td>7.5</td><td>7.3</td><td>7.5</td></tr>\n",
       "\t<tr><th scope=row>2010</th><td>8.4</td><td>8.2</td><td>7.8</td><td>7.3</td><td>7.3</td><td>7.5</td><td>7.6</td><td>7.2</td><td>7.2</td><td>6.8</td><td>6.8</td><td>6.7</td></tr>\n",
       "\t<tr><th scope=row>2011</th><td>7.4</td><td>7.1</td><td>6.7</td><td>6.3</td><td>6.5</td><td>6.9</td><td>6.9</td><td>6.5</td><td>6.6</td><td>6.1</td><td>5.8</td><td>5.8</td></tr>\n",
       "\t<tr><th scope=row>2012</th><td>6.5</td><td>6.4</td><td>6.1</td><td>5.7</td><td>6.0</td><td>6.4</td><td>6.6</td><td>6.2</td><td>6.0</td><td>5.8</td><td>5.6</td><td>5.8</td></tr>\n",
       "\t<tr><th scope=row>2013</th><td>6.8</td><td>6.4</td><td>6.1</td><td>5.7</td><td>6.1</td><td>6.5</td><td>6.5</td><td>6.0</td><td>6.0</td><td>5.8</td><td>5.4</td><td>5.3</td></tr>\n",
       "\t<tr><th scope=row>2014</th><td>5.9</td><td>5.9</td><td>5.6</td><td>4.9</td><td>5.2</td><td>5.4</td><td>5.6</td><td>5.3</td><td>5.1</td><td>4.6</td><td>4.5</td><td>4.3</td></tr>\n",
       "\t<tr><th scope=row>2015</th><td>5.1</td><td>4.9</td><td>4.5</td><td>4.2</td><td>4.5</td><td>4.6</td><td>4.6</td><td>4.2</td><td>4.2</td><td>3.8</td><td>3.7</td><td>3.7</td></tr>\n",
       "\t<tr><th scope=row>2016</th><td>4.2</td><td>4.1</td><td>4.0</td><td>3.6</td><td>3.5</td><td>3.9</td><td>3.8</td><td>3.5</td><td>3.5</td><td>3.2</td><td>3.0</td><td>3.1</td></tr>\n",
       "\t<tr><th scope=row>2017</th><td>3.9</td><td>3.8</td><td>3.5</td><td>3.2</td><td>3.4</td><td>3.7</td><td>3.8</td><td>3.6</td><td>3.4</td><td>3.1</td><td>3.0</td><td>3.0</td></tr>\n",
       "\t<tr><th scope=row>2018</th><td>3.7</td><td>3.6</td><td>3.4</td><td>3.0</td><td>3.0</td><td>3.5</td><td>3.4</td><td>3.1</td><td>2.9</td><td>2.7</td><td>2.5</td><td>2.6</td></tr>\n",
       "\t<tr><th scope=row>2019</th><td>3.5</td><td>3.1</td><td>3.0</td><td>2.5</td><td>2.7</td><td>2.9</td><td>3.1</td><td>2.8</td><td>2.6</td><td>2.4</td><td>2.3</td><td>2.3</td></tr>\n",
       "</tbody>\n",
       "</table>\n"
      ],
      "text/latex": [
       "\\begin{tabular}{r|llllllllllll}\n",
       "  & Jan & Feb & Mar & Apr & May & Jun & Jul & Aug & Sep & Oct & Nov & Dec\\\\\n",
       "\\hline\n",
       "\t1992 & 8.8 & 8.7 & 8.4 & 7.9 & 8.2 & 8.8 & 8.5 & 8.3 & 8.5 & 7.7 & 7.6 & 7.4\\\\\n",
       "\t1993 & 8.1 & 7.8 & 7.4 & 6.8 & 6.8 & 7.1 & 6.9 & 6.5 & 6.5 & 6.1 & 5.7 & 5.5\\\\\n",
       "\t1994 & 6.6 & 6.3 & 6.1 & 5.6 & 5.5 & 5.9 & 6.0 & 5.8 & 5.8 & 5.3 & 5.0 & 4.8\\\\\n",
       "\t1995 & 5.7 & 5.3 & 5.2 & 5.1 & 5.0 & 5.3 & 5.3 & 5.0 & 5.0 & 4.4 & 4.1 & 4.0\\\\\n",
       "\t1996 & 4.9 & 4.6 & 4.5 & 4.1 & 4.2 & 4.3 & 4.4 & 4.0 & 4.1 & 3.7 & 3.6 & 3.5\\\\\n",
       "\t1997 & 4.4 & 4.1 & 4.1 & 3.5 & 3.6 & 4.0 & 3.9 & 3.7 & 3.7 & 3.2 & 2.9 & 2.9\\\\\n",
       "\t1998 & 3.6 & 3.4 & 3.4 & 2.7 & 2.9 & 3.3 & 3.2 & 3.0 & 3.2 & 2.7 & 2.6 & 2.6\\\\\n",
       "\t1999 & 3.3 & 3.3 & 3.1 & 2.9 & 2.9 & 3.3 & 3.3 & 3.0 & 3.2 & 2.7 & 2.6 & 2.5\\\\\n",
       "\t2000 & 3.4 & 3.2 & 3.0 & 2.4 & 2.5 & 2.8 & 2.8 & 2.5 & 2.5 & 2.1 & 2.1 & 2.2\\\\\n",
       "\t2001 & 3.2 & 3.1 & 3.3 & 3.0 & 3.2 & 3.7 & 3.9 & 4.0 & 4.1 & 4.0 & 4.2 & 4.4\\\\\n",
       "\t2002 & 5.4 & 5.2 & 5.2 & 5.0 & 5.0 & 5.4 & 5.5 & 5.2 & 5.3 & 5.0 & 5.1 & 5.2\\\\\n",
       "\t2003 & 6.0 & 5.8 & 5.8 & 5.4 & 5.6 & 6.2 & 6.0 & 5.7 & 5.7 & 5.2 & 5.1 & 4.9\\\\\n",
       "\t2004 & 5.7 & 5.4 & 5.4 & 4.7 & 4.9 & 5.2 & 5.1 & 4.7 & 4.6 & 4.3 & 4.3 & 4.2\\\\\n",
       "\t2005 & 5.0 & 5.0 & 4.7 & 4.3 & 4.4 & 4.7 & 4.6 & 4.3 & 4.5 & 4.1 & 4.3 & 4.1\\\\\n",
       "\t2006 & 4.7 & 4.8 & 4.5 & 4.3 & 4.3 & 4.6 & 4.7 & 4.4 & 4.4 & 3.9 & 4.0 & 4.0\\\\\n",
       "\t2007 & 4.8 & 4.6 & 4.2 & 3.9 & 4.1 & 4.4 & 4.4 & 4.0 & 4.1 & 3.7 & 3.7 & 3.9\\\\\n",
       "\t2008 & 4.6 & 4.5 & 4.4 & 3.9 & 4.6 & 5.0 & 5.1 & 5.0 & 5.2 & 5.0 & 5.2 & 5.7\\\\\n",
       "\t2009 & 7.0 & 7.3 & 7.2 & 6.9 & 7.5 & 8.0 & 8.0 & 7.8 & 8.0 & 7.5 & 7.3 & 7.5\\\\\n",
       "\t2010 & 8.4 & 8.2 & 7.8 & 7.3 & 7.3 & 7.5 & 7.6 & 7.2 & 7.2 & 6.8 & 6.8 & 6.7\\\\\n",
       "\t2011 & 7.4 & 7.1 & 6.7 & 6.3 & 6.5 & 6.9 & 6.9 & 6.5 & 6.6 & 6.1 & 5.8 & 5.8\\\\\n",
       "\t2012 & 6.5 & 6.4 & 6.1 & 5.7 & 6.0 & 6.4 & 6.6 & 6.2 & 6.0 & 5.8 & 5.6 & 5.8\\\\\n",
       "\t2013 & 6.8 & 6.4 & 6.1 & 5.7 & 6.1 & 6.5 & 6.5 & 6.0 & 6.0 & 5.8 & 5.4 & 5.3\\\\\n",
       "\t2014 & 5.9 & 5.9 & 5.6 & 4.9 & 5.2 & 5.4 & 5.6 & 5.3 & 5.1 & 4.6 & 4.5 & 4.3\\\\\n",
       "\t2015 & 5.1 & 4.9 & 4.5 & 4.2 & 4.5 & 4.6 & 4.6 & 4.2 & 4.2 & 3.8 & 3.7 & 3.7\\\\\n",
       "\t2016 & 4.2 & 4.1 & 4.0 & 3.6 & 3.5 & 3.9 & 3.8 & 3.5 & 3.5 & 3.2 & 3.0 & 3.1\\\\\n",
       "\t2017 & 3.9 & 3.8 & 3.5 & 3.2 & 3.4 & 3.7 & 3.8 & 3.6 & 3.4 & 3.1 & 3.0 & 3.0\\\\\n",
       "\t2018 & 3.7 & 3.6 & 3.4 & 3.0 & 3.0 & 3.5 & 3.4 & 3.1 & 2.9 & 2.7 & 2.5 & 2.6\\\\\n",
       "\t2019 & 3.5 & 3.1 & 3.0 & 2.5 & 2.7 & 2.9 & 3.1 & 2.8 & 2.6 & 2.4 & 2.3 & 2.3\\\\\n",
       "\\end{tabular}\n"
      ],
      "text/plain": [
       "     Jan Feb Mar Apr May Jun Jul Aug Sep Oct Nov Dec\n",
       "1992 8.8 8.7 8.4 7.9 8.2 8.8 8.5 8.3 8.5 7.7 7.6 7.4\n",
       "1993 8.1 7.8 7.4 6.8 6.8 7.1 6.9 6.5 6.5 6.1 5.7 5.5\n",
       "1994 6.6 6.3 6.1 5.6 5.5 5.9 6.0 5.8 5.8 5.3 5.0 4.8\n",
       "1995 5.7 5.3 5.2 5.1 5.0 5.3 5.3 5.0 5.0 4.4 4.1 4.0\n",
       "1996 4.9 4.6 4.5 4.1 4.2 4.3 4.4 4.0 4.1 3.7 3.6 3.5\n",
       "1997 4.4 4.1 4.1 3.5 3.6 4.0 3.9 3.7 3.7 3.2 2.9 2.9\n",
       "1998 3.6 3.4 3.4 2.7 2.9 3.3 3.2 3.0 3.2 2.7 2.6 2.6\n",
       "1999 3.3 3.3 3.1 2.9 2.9 3.3 3.3 3.0 3.2 2.7 2.6 2.5\n",
       "2000 3.4 3.2 3.0 2.4 2.5 2.8 2.8 2.5 2.5 2.1 2.1 2.2\n",
       "2001 3.2 3.1 3.3 3.0 3.2 3.7 3.9 4.0 4.1 4.0 4.2 4.4\n",
       "2002 5.4 5.2 5.2 5.0 5.0 5.4 5.5 5.2 5.3 5.0 5.1 5.2\n",
       "2003 6.0 5.8 5.8 5.4 5.6 6.2 6.0 5.7 5.7 5.2 5.1 4.9\n",
       "2004 5.7 5.4 5.4 4.7 4.9 5.2 5.1 4.7 4.6 4.3 4.3 4.2\n",
       "2005 5.0 5.0 4.7 4.3 4.4 4.7 4.6 4.3 4.5 4.1 4.3 4.1\n",
       "2006 4.7 4.8 4.5 4.3 4.3 4.6 4.7 4.4 4.4 3.9 4.0 4.0\n",
       "2007 4.8 4.6 4.2 3.9 4.1 4.4 4.4 4.0 4.1 3.7 3.7 3.9\n",
       "2008 4.6 4.5 4.4 3.9 4.6 5.0 5.1 5.0 5.2 5.0 5.2 5.7\n",
       "2009 7.0 7.3 7.2 6.9 7.5 8.0 8.0 7.8 8.0 7.5 7.3 7.5\n",
       "2010 8.4 8.2 7.8 7.3 7.3 7.5 7.6 7.2 7.2 6.8 6.8 6.7\n",
       "2011 7.4 7.1 6.7 6.3 6.5 6.9 6.9 6.5 6.6 6.1 5.8 5.8\n",
       "2012 6.5 6.4 6.1 5.7 6.0 6.4 6.6 6.2 6.0 5.8 5.6 5.8\n",
       "2013 6.8 6.4 6.1 5.7 6.1 6.5 6.5 6.0 6.0 5.8 5.4 5.3\n",
       "2014 5.9 5.9 5.6 4.9 5.2 5.4 5.6 5.3 5.1 4.6 4.5 4.3\n",
       "2015 5.1 4.9 4.5 4.2 4.5 4.6 4.6 4.2 4.2 3.8 3.7 3.7\n",
       "2016 4.2 4.1 4.0 3.6 3.5 3.9 3.8 3.5 3.5 3.2 3.0 3.1\n",
       "2017 3.9 3.8 3.5 3.2 3.4 3.7 3.8 3.6 3.4 3.1 3.0 3.0\n",
       "2018 3.7 3.6 3.4 3.0 3.0 3.5 3.4 3.1 2.9 2.7 2.5 2.6\n",
       "2019 3.5 3.1 3.0 2.5 2.7 2.9 3.1 2.8 2.6 2.4 2.3 2.3"
      ]
     },
     "metadata": {},
     "output_type": "display_data"
    }
   ],
   "source": [
    "na.fail(data.ts)\n",
    "#Pas de NA"
   ]
  },
  {
   "cell_type": "code",
   "execution_count": 27,
   "id": "5a5630ba",
   "metadata": {},
   "outputs": [
    {
     "data": {
      "image/png": "[encoded data removed]",
      "text/plain": [
       "Plot with title \"Unemployment Rate in Boston\""
      ]
     },
     "metadata": {},
     "output_type": "display_data"
    }
   ],
   "source": [
    "plot(data.ts, xlab=\"date\", ylab=\"Unemployment percent\",\n",
    " main=\"Unemployment Rate in Boston\",\n",
    " col=\"purple4\",lwd=2)"
   ]
  },
  {
   "cell_type": "markdown",
   "id": "b1b184a4",
   "metadata": {},
   "source": [
    "A travers la représentation graphique des données à étudier, on remarque la présence d'une tendance : Tendance décroissante avec un changement structurel (breakpoints) mais on ne peut pas observer une saisonalité. c'est pour cela on a utiliser la fonction ACF "
   ]
  },
  {
   "cell_type": "code",
   "execution_count": 40,
   "id": "d257d39d",
   "metadata": {},
   "outputs": [
    {
     "data": {
      "image/png": "[encoded data removed]",
      "text/plain": [
       "Plot with title \"Series  data.ts\""
      ]
     },
     "metadata": {},
     "output_type": "display_data"
    }
   ],
   "source": [
    "acf(data.ts, lag=27)"
   ]
  },
  {
   "cell_type": "markdown",
   "id": "5898a044",
   "metadata": {},
   "source": [
    "=> On peut observer que la série possède un comportement répétitive ce qui veut dire que la série possède une saisonalité + une decroissance légère ce sui siginifie la présence d'une tendance"
   ]
  },
  {
   "cell_type": "code",
   "execution_count": 43,
   "id": "eccadcbe",
   "metadata": {},
   "outputs": [
    {
     "data": {
      "image/png": "[encoded data removed]",
      "text/plain": [
       "plot without title"
      ]
     },
     "metadata": {},
     "output_type": "display_data"
    }
   ],
   "source": [
    "lag.plot(data.ts,lag=12)"
   ]
  },
  {
   "cell_type": "markdown",
   "id": "394a9eac",
   "metadata": {},
   "source": [
    "Les valeurs de la série temporelle à chaque moment donné sont fortement corrélées avec les valeurs à un moment équivalent de chaque saison. \n",
    "\n",
    "On remarque la présence d'une saisonnalité."
   ]
  },
  {
   "cell_type": "markdown",
   "id": "3185e2f6",
   "metadata": {},
   "source": [
    "# Décomposition de notre série temporelle\n"
   ]
  },
  {
   "cell_type": "code",
   "execution_count": 45,
   "id": "9ec85008",
   "metadata": {},
   "outputs": [],
   "source": [
    "# modèle additive\n",
    "data.ts_Ad=decompose(data.ts,\"additive\")\n",
    "# modèle multiplicatif\n",
    "data.ts_MU=decompose(data.ts,\"multiplicative\")"
   ]
  },
  {
   "cell_type": "code",
   "execution_count": 47,
   "id": "c99f9319",
   "metadata": {},
   "outputs": [
    {
     "data": {
      "image/png": "[encoded data removed]",
      "text/plain": [
       "plot without title"
      ]
     },
     "metadata": {},
     "output_type": "display_data"
    },
    {
     "data": {
      "image/png": "[encoded data removed]",
      "text/plain": [
       "plot without title"
      ]
     },
     "metadata": {},
     "output_type": "display_data"
    }
   ],
   "source": [
    "par(mfrow=c(2,2))\n",
    "plot(data.ts_Ad)\n",
    "plot(data.ts_MU)"
   ]
  },
  {
   "cell_type": "markdown",
   "id": "92b91d05",
   "metadata": {},
   "source": [
    "A travers les deux représentations graphique des données à étudier, on remarque que les deux modèles ont : \n",
    "*   Tendance décroissante avec un changement structurel puis reprise du même comportement\n",
    "*   presence de saisonnalité avec une certaine périodicité\n",
    "*   Pour l'erreur on constate : Une absence de tendance et de périodicité,un aspect stationnaire.\n"
   ]
  },
  {
   "cell_type": "code",
   "execution_count": 49,
   "id": "d617314e",
   "metadata": {},
   "outputs": [
    {
     "data": {
      "image/png": "[encoded data removed]",
      "text/plain": [
       "Plot with title \"Series  EMAMu\""
      ]
     },
     "metadata": {},
     "output_type": "display_data"
    }
   ],
   "source": [
    "EMAAd=data.ts_Ad$random \n",
    "EMAMu=data.ts_MU$random\n",
    "par(mfrow=c(2,1))\n",
    "acf(EMAAd,na.action=na.pass) #pour eliminer les données manquantes\n",
    "acf(EMAMu,na.action=na.pass)"
   ]
  },
  {
   "cell_type": "markdown",
   "id": "eedbe99b",
   "metadata": {},
   "source": [
    "En comparant entre les deux residus on remarque que le modèle additif est meilleur car les residus sont moins autocorrelés ce qui implique que \n",
    "les informations supplementaires telles que la tendance et la saisonalité sont moins dans le modèle additif que le multiplicatif."
   ]
  },
  {
   "cell_type": "markdown",
   "id": "37b24928",
   "metadata": {},
   "source": [
    "## Analyse des points de rupture"
   ]
  },
  {
   "cell_type": "code",
   "execution_count": 52,
   "id": "ead34da4",
   "metadata": {},
   "outputs": [
    {
     "name": "stderr",
     "output_type": "stream",
     "text": [
      "Warning message:\n",
      "\"package 'strucchange' was built under R version 3.6.3\"Loading required package: zoo\n",
      "\n",
      "Attaching package: 'zoo'\n",
      "\n",
      "The following objects are masked from 'package:base':\n",
      "\n",
      "    as.Date, as.Date.numeric\n",
      "\n",
      "Loading required package: sandwich\n"
     ]
    }
   ],
   "source": [
    "library(strucchange)"
   ]
  },
  {
   "cell_type": "code",
   "execution_count": 53,
   "id": "d996db19",
   "metadata": {},
   "outputs": [
    {
     "data": {
      "text/plain": [
       "\n",
       "\t Optimal (m+1)-segment partition: \n",
       "\n",
       "Call:\n",
       "breakpoints.formula(formula = data.ts ~ time, breaks = 5)\n",
       "\n",
       "Breakpoints at observation number:\n",
       "                          \n",
       "m = 1              204    \n",
       "m = 2      113     204    \n",
       "m = 3   69 119     204    \n",
       "m = 4   69 119     204 273\n",
       "m = 5   50 100 150 204 273\n",
       "\n",
       "Corresponding to breakdates:\n",
       "                                                 \n",
       "m = 1                            2008(12)        \n",
       "m = 2           2001(5)          2008(12)        \n",
       "m = 3   1997(9) 2001(11)         2008(12)        \n",
       "m = 4   1997(9) 2001(11)         2008(12) 2014(9)\n",
       "m = 5   1996(2) 2000(4)  2004(6) 2008(12) 2014(9)\n",
       "\n",
       "Fit:\n",
       "                                                   \n",
       "m   0       1       2       3       4       5      \n",
       "RSS  789.40  385.02   98.51   66.30   61.58   60.02\n",
       "BIC 1257.98 1034.19  593.64  478.04  470.69  479.49"
      ]
     },
     "metadata": {},
     "output_type": "display_data"
    }
   ],
   "source": [
    "time<-c(1:length(data.ts))\n",
    "br<-breakpoints(data.ts~time, breaks=5)\n",
    "summary(br)"
   ]
  },
  {
   "cell_type": "code",
   "execution_count": 54,
   "id": "b469621d",
   "metadata": {},
   "outputs": [
    {
     "data": {
      "text/html": [
       "<ol class=list-inline>\n",
       "\t<li>69</li>\n",
       "\t<li>119</li>\n",
       "\t<li>204</li>\n",
       "\t<li>273</li>\n",
       "</ol>\n"
      ],
      "text/latex": [
       "\\begin{enumerate*}\n",
       "\\item 69\n",
       "\\item 119\n",
       "\\item 204\n",
       "\\item 273\n",
       "\\end{enumerate*}\n"
      ],
      "text/markdown": [
       "1. 69\n",
       "2. 119\n",
       "3. 204\n",
       "4. 273\n",
       "\n",
       "\n"
      ],
      "text/plain": [
       "[1]  69 119 204 273"
      ]
     },
     "metadata": {},
     "output_type": "display_data"
    }
   ],
   "source": [
    "br$breakpoints"
   ]
  },
  {
   "cell_type": "code",
   "execution_count": 56,
   "id": "eb6d5b0a",
   "metadata": {},
   "outputs": [
    {
     "data": {
      "image/png": "[encoded data removed]",
      "text/plain": [
       "plot without title"
      ]
     },
     "metadata": {},
     "output_type": "display_data"
    }
   ],
   "source": [
    "plot(data.ts)\n",
    "points(time(data.ts),fitted(br),col=\"Blue\",type=\"l\",lwd=2)"
   ]
  },
  {
   "cell_type": "markdown",
   "id": "3e98e6f0",
   "metadata": {},
   "source": [
    "#### Création des variables dummy"
   ]
  },
  {
   "cell_type": "code",
   "execution_count": 57,
   "id": "a570be20",
   "metadata": {},
   "outputs": [],
   "source": [
    "t0=92\n",
    "t1=179\n",
    "t2=251\n",
    "t3=315\n",
    "VD=ifelse(time < t0,1,0)\n",
    "VD1=ifelse(time>t1 & time<=t2, 1, 0)\n",
    "VD2=ifelse(time>t2 & time<=t3, 1, 0)\n",
    "VD3=ifelse(time>t3, 1, 0)"
   ]
  },
  {
   "cell_type": "code",
   "execution_count": 58,
   "id": "325dd903",
   "metadata": {},
   "outputs": [
    {
     "data": {
      "image/png": "[encoded data removed]",
      "text/plain": [
       "plot without title"
      ]
     },
     "metadata": {},
     "output_type": "display_data"
    },
    {
     "data": {
      "image/png": "[encoded data removed]",
      "text/plain": [
       "plot without title"
      ]
     },
     "metadata": {},
     "output_type": "display_data"
    },
    {
     "data": {
      "image/png": "[encoded data removed]",
      "text/plain": [
       "plot without title"
      ]
     },
     "metadata": {},
     "output_type": "display_data"
    },
    {
     "data": {
      "image/png": "[encoded data removed]",
      "text/plain": [
       "plot without title"
      ]
     },
     "metadata": {},
     "output_type": "display_data"
    }
   ],
   "source": [
    "plot(VD)\n",
    "plot(VD1)\n",
    "plot(VD2)\n",
    "plot(VD3)"
   ]
  },
  {
   "cell_type": "code",
   "execution_count": 61,
   "id": "1eaa1adc",
   "metadata": {},
   "outputs": [
    {
     "data": {
      "text/plain": [
       "\n",
       "Call:\n",
       "lm(formula = data.ts ~ time * (VD + VD1 + VD2 + VD3))\n",
       "\n",
       "Residuals:\n",
       "     Min       1Q   Median       3Q      Max \n",
       "-1.73554 -0.51200 -0.07536  0.39083  2.28105 \n",
       "\n",
       "Coefficients:\n",
       "             Estimate Std. Error t value Pr(>|t|)    \n",
       "(Intercept)  1.328498   0.442052   3.005  0.00286 ** \n",
       "time         0.022114   0.003207   6.897 2.77e-11 ***\n",
       "VD           6.726740   0.470638  14.293  < 2e-16 ***\n",
       "VD1         -2.974251   1.036998  -2.868  0.00440 ** \n",
       "VD2         18.416646   1.533953  12.006  < 2e-16 ***\n",
       "VD3         13.293753   8.989011   1.479  0.14014    \n",
       "time:VD     -0.087171   0.004425 -19.700  < 2e-16 ***\n",
       "time:VD1     0.013668   0.005390   2.536  0.01169 *  \n",
       "time:VD2    -0.075878   0.006084 -12.472  < 2e-16 ***\n",
       "time:VD3    -0.058218   0.027722  -2.100  0.03649 *  \n",
       "---\n",
       "Signif. codes:  0 '***' 0.001 '**' 0.01 '*' 0.05 '.' 0.1 ' ' 1\n",
       "\n",
       "Residual standard error: 0.7641 on 326 degrees of freedom\n",
       "Multiple R-squared:  0.7662,\tAdjusted R-squared:  0.7597 \n",
       "F-statistic: 118.7 on 9 and 326 DF,  p-value: < 2.2e-16\n"
      ]
     },
     "metadata": {},
     "output_type": "display_data"
    }
   ],
   "source": [
    "model1<-lm(data.ts~time*(VD+VD1+VD2+VD3))\n",
    "summary(model1)"
   ]
  },
  {
   "cell_type": "code",
   "execution_count": 62,
   "id": "76e55001",
   "metadata": {},
   "outputs": [
    {
     "name": "stderr",
     "output_type": "stream",
     "text": [
      "Warning message:\n",
      "\"package 'forecast' was built under R version 3.6.3\"Registered S3 methods overwritten by 'ggplot2':\n",
      "  method         from \n",
      "  [.quosures     rlang\n",
      "  c.quosures     rlang\n",
      "  print.quosures rlang\n",
      "Registered S3 method overwritten by 'xts':\n",
      "  method     from\n",
      "  as.zoo.xts zoo \n",
      "Registered S3 method overwritten by 'quantmod':\n",
      "  method            from\n",
      "  as.zoo.data.frame zoo \n"
     ]
    },
    {
     "data": {
      "text/html": [
       "<table>\n",
       "<thead><tr><th scope=col>Jan</th><th scope=col>Feb</th><th scope=col>Mar</th><th scope=col>Apr</th><th scope=col>May</th><th scope=col>Jun</th><th scope=col>Jul</th><th scope=col>Aug</th><th scope=col>Sep</th><th scope=col>Oct</th><th scope=col>Nov</th></tr></thead>\n",
       "<tbody>\n",
       "\t<tr><td>1</td><td>0</td><td>0</td><td>0</td><td>0</td><td>0</td><td>0</td><td>0</td><td>0</td><td>0</td><td>0</td></tr>\n",
       "\t<tr><td>0</td><td>1</td><td>0</td><td>0</td><td>0</td><td>0</td><td>0</td><td>0</td><td>0</td><td>0</td><td>0</td></tr>\n",
       "\t<tr><td>0</td><td>0</td><td>1</td><td>0</td><td>0</td><td>0</td><td>0</td><td>0</td><td>0</td><td>0</td><td>0</td></tr>\n",
       "\t<tr><td>0</td><td>0</td><td>0</td><td>1</td><td>0</td><td>0</td><td>0</td><td>0</td><td>0</td><td>0</td><td>0</td></tr>\n",
       "\t<tr><td>0</td><td>0</td><td>0</td><td>0</td><td>1</td><td>0</td><td>0</td><td>0</td><td>0</td><td>0</td><td>0</td></tr>\n",
       "\t<tr><td>0</td><td>0</td><td>0</td><td>0</td><td>0</td><td>1</td><td>0</td><td>0</td><td>0</td><td>0</td><td>0</td></tr>\n",
       "\t<tr><td>0</td><td>0</td><td>0</td><td>0</td><td>0</td><td>0</td><td>1</td><td>0</td><td>0</td><td>0</td><td>0</td></tr>\n",
       "\t<tr><td>0</td><td>0</td><td>0</td><td>0</td><td>0</td><td>0</td><td>0</td><td>1</td><td>0</td><td>0</td><td>0</td></tr>\n",
       "\t<tr><td>0</td><td>0</td><td>0</td><td>0</td><td>0</td><td>0</td><td>0</td><td>0</td><td>1</td><td>0</td><td>0</td></tr>\n",
       "\t<tr><td>0</td><td>0</td><td>0</td><td>0</td><td>0</td><td>0</td><td>0</td><td>0</td><td>0</td><td>1</td><td>0</td></tr>\n",
       "\t<tr><td>0</td><td>0</td><td>0</td><td>0</td><td>0</td><td>0</td><td>0</td><td>0</td><td>0</td><td>0</td><td>1</td></tr>\n",
       "\t<tr><td>0</td><td>0</td><td>0</td><td>0</td><td>0</td><td>0</td><td>0</td><td>0</td><td>0</td><td>0</td><td>0</td></tr>\n",
       "\t<tr><td>1</td><td>0</td><td>0</td><td>0</td><td>0</td><td>0</td><td>0</td><td>0</td><td>0</td><td>0</td><td>0</td></tr>\n",
       "\t<tr><td>0</td><td>1</td><td>0</td><td>0</td><td>0</td><td>0</td><td>0</td><td>0</td><td>0</td><td>0</td><td>0</td></tr>\n",
       "\t<tr><td>0</td><td>0</td><td>1</td><td>0</td><td>0</td><td>0</td><td>0</td><td>0</td><td>0</td><td>0</td><td>0</td></tr>\n",
       "\t<tr><td>0</td><td>0</td><td>0</td><td>1</td><td>0</td><td>0</td><td>0</td><td>0</td><td>0</td><td>0</td><td>0</td></tr>\n",
       "\t<tr><td>0</td><td>0</td><td>0</td><td>0</td><td>1</td><td>0</td><td>0</td><td>0</td><td>0</td><td>0</td><td>0</td></tr>\n",
       "\t<tr><td>0</td><td>0</td><td>0</td><td>0</td><td>0</td><td>1</td><td>0</td><td>0</td><td>0</td><td>0</td><td>0</td></tr>\n",
       "\t<tr><td>0</td><td>0</td><td>0</td><td>0</td><td>0</td><td>0</td><td>1</td><td>0</td><td>0</td><td>0</td><td>0</td></tr>\n",
       "\t<tr><td>0</td><td>0</td><td>0</td><td>0</td><td>0</td><td>0</td><td>0</td><td>1</td><td>0</td><td>0</td><td>0</td></tr>\n",
       "\t<tr><td>0</td><td>0</td><td>0</td><td>0</td><td>0</td><td>0</td><td>0</td><td>0</td><td>1</td><td>0</td><td>0</td></tr>\n",
       "\t<tr><td>0</td><td>0</td><td>0</td><td>0</td><td>0</td><td>0</td><td>0</td><td>0</td><td>0</td><td>1</td><td>0</td></tr>\n",
       "\t<tr><td>0</td><td>0</td><td>0</td><td>0</td><td>0</td><td>0</td><td>0</td><td>0</td><td>0</td><td>0</td><td>1</td></tr>\n",
       "\t<tr><td>0</td><td>0</td><td>0</td><td>0</td><td>0</td><td>0</td><td>0</td><td>0</td><td>0</td><td>0</td><td>0</td></tr>\n",
       "\t<tr><td>1</td><td>0</td><td>0</td><td>0</td><td>0</td><td>0</td><td>0</td><td>0</td><td>0</td><td>0</td><td>0</td></tr>\n",
       "\t<tr><td>0</td><td>1</td><td>0</td><td>0</td><td>0</td><td>0</td><td>0</td><td>0</td><td>0</td><td>0</td><td>0</td></tr>\n",
       "\t<tr><td>0</td><td>0</td><td>1</td><td>0</td><td>0</td><td>0</td><td>0</td><td>0</td><td>0</td><td>0</td><td>0</td></tr>\n",
       "\t<tr><td>0</td><td>0</td><td>0</td><td>1</td><td>0</td><td>0</td><td>0</td><td>0</td><td>0</td><td>0</td><td>0</td></tr>\n",
       "\t<tr><td>0</td><td>0</td><td>0</td><td>0</td><td>1</td><td>0</td><td>0</td><td>0</td><td>0</td><td>0</td><td>0</td></tr>\n",
       "\t<tr><td>0</td><td>0</td><td>0</td><td>0</td><td>0</td><td>1</td><td>0</td><td>0</td><td>0</td><td>0</td><td>0</td></tr>\n",
       "\t<tr><td>...</td><td>...</td><td>...</td><td>...</td><td>...</td><td>...</td><td>...</td><td>...</td><td>...</td><td>...</td><td>...</td></tr>\n",
       "\t<tr><td>0</td><td>0</td><td>0</td><td>0</td><td>0</td><td>0</td><td>1</td><td>0</td><td>0</td><td>0</td><td>0</td></tr>\n",
       "\t<tr><td>0</td><td>0</td><td>0</td><td>0</td><td>0</td><td>0</td><td>0</td><td>1</td><td>0</td><td>0</td><td>0</td></tr>\n",
       "\t<tr><td>0</td><td>0</td><td>0</td><td>0</td><td>0</td><td>0</td><td>0</td><td>0</td><td>1</td><td>0</td><td>0</td></tr>\n",
       "\t<tr><td>0</td><td>0</td><td>0</td><td>0</td><td>0</td><td>0</td><td>0</td><td>0</td><td>0</td><td>1</td><td>0</td></tr>\n",
       "\t<tr><td>0</td><td>0</td><td>0</td><td>0</td><td>0</td><td>0</td><td>0</td><td>0</td><td>0</td><td>0</td><td>1</td></tr>\n",
       "\t<tr><td>0</td><td>0</td><td>0</td><td>0</td><td>0</td><td>0</td><td>0</td><td>0</td><td>0</td><td>0</td><td>0</td></tr>\n",
       "\t<tr><td>1</td><td>0</td><td>0</td><td>0</td><td>0</td><td>0</td><td>0</td><td>0</td><td>0</td><td>0</td><td>0</td></tr>\n",
       "\t<tr><td>0</td><td>1</td><td>0</td><td>0</td><td>0</td><td>0</td><td>0</td><td>0</td><td>0</td><td>0</td><td>0</td></tr>\n",
       "\t<tr><td>0</td><td>0</td><td>1</td><td>0</td><td>0</td><td>0</td><td>0</td><td>0</td><td>0</td><td>0</td><td>0</td></tr>\n",
       "\t<tr><td>0</td><td>0</td><td>0</td><td>1</td><td>0</td><td>0</td><td>0</td><td>0</td><td>0</td><td>0</td><td>0</td></tr>\n",
       "\t<tr><td>0</td><td>0</td><td>0</td><td>0</td><td>1</td><td>0</td><td>0</td><td>0</td><td>0</td><td>0</td><td>0</td></tr>\n",
       "\t<tr><td>0</td><td>0</td><td>0</td><td>0</td><td>0</td><td>1</td><td>0</td><td>0</td><td>0</td><td>0</td><td>0</td></tr>\n",
       "\t<tr><td>0</td><td>0</td><td>0</td><td>0</td><td>0</td><td>0</td><td>1</td><td>0</td><td>0</td><td>0</td><td>0</td></tr>\n",
       "\t<tr><td>0</td><td>0</td><td>0</td><td>0</td><td>0</td><td>0</td><td>0</td><td>1</td><td>0</td><td>0</td><td>0</td></tr>\n",
       "\t<tr><td>0</td><td>0</td><td>0</td><td>0</td><td>0</td><td>0</td><td>0</td><td>0</td><td>1</td><td>0</td><td>0</td></tr>\n",
       "\t<tr><td>0</td><td>0</td><td>0</td><td>0</td><td>0</td><td>0</td><td>0</td><td>0</td><td>0</td><td>1</td><td>0</td></tr>\n",
       "\t<tr><td>0</td><td>0</td><td>0</td><td>0</td><td>0</td><td>0</td><td>0</td><td>0</td><td>0</td><td>0</td><td>1</td></tr>\n",
       "\t<tr><td>0</td><td>0</td><td>0</td><td>0</td><td>0</td><td>0</td><td>0</td><td>0</td><td>0</td><td>0</td><td>0</td></tr>\n",
       "\t<tr><td>1</td><td>0</td><td>0</td><td>0</td><td>0</td><td>0</td><td>0</td><td>0</td><td>0</td><td>0</td><td>0</td></tr>\n",
       "\t<tr><td>0</td><td>1</td><td>0</td><td>0</td><td>0</td><td>0</td><td>0</td><td>0</td><td>0</td><td>0</td><td>0</td></tr>\n",
       "\t<tr><td>0</td><td>0</td><td>1</td><td>0</td><td>0</td><td>0</td><td>0</td><td>0</td><td>0</td><td>0</td><td>0</td></tr>\n",
       "\t<tr><td>0</td><td>0</td><td>0</td><td>1</td><td>0</td><td>0</td><td>0</td><td>0</td><td>0</td><td>0</td><td>0</td></tr>\n",
       "\t<tr><td>0</td><td>0</td><td>0</td><td>0</td><td>1</td><td>0</td><td>0</td><td>0</td><td>0</td><td>0</td><td>0</td></tr>\n",
       "\t<tr><td>0</td><td>0</td><td>0</td><td>0</td><td>0</td><td>1</td><td>0</td><td>0</td><td>0</td><td>0</td><td>0</td></tr>\n",
       "\t<tr><td>0</td><td>0</td><td>0</td><td>0</td><td>0</td><td>0</td><td>1</td><td>0</td><td>0</td><td>0</td><td>0</td></tr>\n",
       "\t<tr><td>0</td><td>0</td><td>0</td><td>0</td><td>0</td><td>0</td><td>0</td><td>1</td><td>0</td><td>0</td><td>0</td></tr>\n",
       "\t<tr><td>0</td><td>0</td><td>0</td><td>0</td><td>0</td><td>0</td><td>0</td><td>0</td><td>1</td><td>0</td><td>0</td></tr>\n",
       "\t<tr><td>0</td><td>0</td><td>0</td><td>0</td><td>0</td><td>0</td><td>0</td><td>0</td><td>0</td><td>1</td><td>0</td></tr>\n",
       "\t<tr><td>0</td><td>0</td><td>0</td><td>0</td><td>0</td><td>0</td><td>0</td><td>0</td><td>0</td><td>0</td><td>1</td></tr>\n",
       "\t<tr><td>0</td><td>0</td><td>0</td><td>0</td><td>0</td><td>0</td><td>0</td><td>0</td><td>0</td><td>0</td><td>0</td></tr>\n",
       "</tbody>\n",
       "</table>\n"
      ],
      "text/latex": [
       "\\begin{tabular}{lllllllllll}\n",
       " Jan & Feb & Mar & Apr & May & Jun & Jul & Aug & Sep & Oct & Nov\\\\\n",
       "\\hline\n",
       "\t 1 & 0 & 0 & 0 & 0 & 0 & 0 & 0 & 0 & 0 & 0\\\\\n",
       "\t 0 & 1 & 0 & 0 & 0 & 0 & 0 & 0 & 0 & 0 & 0\\\\\n",
       "\t 0 & 0 & 1 & 0 & 0 & 0 & 0 & 0 & 0 & 0 & 0\\\\\n",
       "\t 0 & 0 & 0 & 1 & 0 & 0 & 0 & 0 & 0 & 0 & 0\\\\\n",
       "\t 0 & 0 & 0 & 0 & 1 & 0 & 0 & 0 & 0 & 0 & 0\\\\\n",
       "\t 0 & 0 & 0 & 0 & 0 & 1 & 0 & 0 & 0 & 0 & 0\\\\\n",
       "\t 0 & 0 & 0 & 0 & 0 & 0 & 1 & 0 & 0 & 0 & 0\\\\\n",
       "\t 0 & 0 & 0 & 0 & 0 & 0 & 0 & 1 & 0 & 0 & 0\\\\\n",
       "\t 0 & 0 & 0 & 0 & 0 & 0 & 0 & 0 & 1 & 0 & 0\\\\\n",
       "\t 0 & 0 & 0 & 0 & 0 & 0 & 0 & 0 & 0 & 1 & 0\\\\\n",
       "\t 0 & 0 & 0 & 0 & 0 & 0 & 0 & 0 & 0 & 0 & 1\\\\\n",
       "\t 0 & 0 & 0 & 0 & 0 & 0 & 0 & 0 & 0 & 0 & 0\\\\\n",
       "\t 1 & 0 & 0 & 0 & 0 & 0 & 0 & 0 & 0 & 0 & 0\\\\\n",
       "\t 0 & 1 & 0 & 0 & 0 & 0 & 0 & 0 & 0 & 0 & 0\\\\\n",
       "\t 0 & 0 & 1 & 0 & 0 & 0 & 0 & 0 & 0 & 0 & 0\\\\\n",
       "\t 0 & 0 & 0 & 1 & 0 & 0 & 0 & 0 & 0 & 0 & 0\\\\\n",
       "\t 0 & 0 & 0 & 0 & 1 & 0 & 0 & 0 & 0 & 0 & 0\\\\\n",
       "\t 0 & 0 & 0 & 0 & 0 & 1 & 0 & 0 & 0 & 0 & 0\\\\\n",
       "\t 0 & 0 & 0 & 0 & 0 & 0 & 1 & 0 & 0 & 0 & 0\\\\\n",
       "\t 0 & 0 & 0 & 0 & 0 & 0 & 0 & 1 & 0 & 0 & 0\\\\\n",
       "\t 0 & 0 & 0 & 0 & 0 & 0 & 0 & 0 & 1 & 0 & 0\\\\\n",
       "\t 0 & 0 & 0 & 0 & 0 & 0 & 0 & 0 & 0 & 1 & 0\\\\\n",
       "\t 0 & 0 & 0 & 0 & 0 & 0 & 0 & 0 & 0 & 0 & 1\\\\\n",
       "\t 0 & 0 & 0 & 0 & 0 & 0 & 0 & 0 & 0 & 0 & 0\\\\\n",
       "\t 1 & 0 & 0 & 0 & 0 & 0 & 0 & 0 & 0 & 0 & 0\\\\\n",
       "\t 0 & 1 & 0 & 0 & 0 & 0 & 0 & 0 & 0 & 0 & 0\\\\\n",
       "\t 0 & 0 & 1 & 0 & 0 & 0 & 0 & 0 & 0 & 0 & 0\\\\\n",
       "\t 0 & 0 & 0 & 1 & 0 & 0 & 0 & 0 & 0 & 0 & 0\\\\\n",
       "\t 0 & 0 & 0 & 0 & 1 & 0 & 0 & 0 & 0 & 0 & 0\\\\\n",
       "\t 0 & 0 & 0 & 0 & 0 & 1 & 0 & 0 & 0 & 0 & 0\\\\\n",
       "\t ... & ... & ... & ... & ... & ... & ... & ... & ... & ... & ...\\\\\n",
       "\t 0 & 0 & 0 & 0 & 0 & 0 & 1 & 0 & 0 & 0 & 0\\\\\n",
       "\t 0 & 0 & 0 & 0 & 0 & 0 & 0 & 1 & 0 & 0 & 0\\\\\n",
       "\t 0 & 0 & 0 & 0 & 0 & 0 & 0 & 0 & 1 & 0 & 0\\\\\n",
       "\t 0 & 0 & 0 & 0 & 0 & 0 & 0 & 0 & 0 & 1 & 0\\\\\n",
       "\t 0 & 0 & 0 & 0 & 0 & 0 & 0 & 0 & 0 & 0 & 1\\\\\n",
       "\t 0 & 0 & 0 & 0 & 0 & 0 & 0 & 0 & 0 & 0 & 0\\\\\n",
       "\t 1 & 0 & 0 & 0 & 0 & 0 & 0 & 0 & 0 & 0 & 0\\\\\n",
       "\t 0 & 1 & 0 & 0 & 0 & 0 & 0 & 0 & 0 & 0 & 0\\\\\n",
       "\t 0 & 0 & 1 & 0 & 0 & 0 & 0 & 0 & 0 & 0 & 0\\\\\n",
       "\t 0 & 0 & 0 & 1 & 0 & 0 & 0 & 0 & 0 & 0 & 0\\\\\n",
       "\t 0 & 0 & 0 & 0 & 1 & 0 & 0 & 0 & 0 & 0 & 0\\\\\n",
       "\t 0 & 0 & 0 & 0 & 0 & 1 & 0 & 0 & 0 & 0 & 0\\\\\n",
       "\t 0 & 0 & 0 & 0 & 0 & 0 & 1 & 0 & 0 & 0 & 0\\\\\n",
       "\t 0 & 0 & 0 & 0 & 0 & 0 & 0 & 1 & 0 & 0 & 0\\\\\n",
       "\t 0 & 0 & 0 & 0 & 0 & 0 & 0 & 0 & 1 & 0 & 0\\\\\n",
       "\t 0 & 0 & 0 & 0 & 0 & 0 & 0 & 0 & 0 & 1 & 0\\\\\n",
       "\t 0 & 0 & 0 & 0 & 0 & 0 & 0 & 0 & 0 & 0 & 1\\\\\n",
       "\t 0 & 0 & 0 & 0 & 0 & 0 & 0 & 0 & 0 & 0 & 0\\\\\n",
       "\t 1 & 0 & 0 & 0 & 0 & 0 & 0 & 0 & 0 & 0 & 0\\\\\n",
       "\t 0 & 1 & 0 & 0 & 0 & 0 & 0 & 0 & 0 & 0 & 0\\\\\n",
       "\t 0 & 0 & 1 & 0 & 0 & 0 & 0 & 0 & 0 & 0 & 0\\\\\n",
       "\t 0 & 0 & 0 & 1 & 0 & 0 & 0 & 0 & 0 & 0 & 0\\\\\n",
       "\t 0 & 0 & 0 & 0 & 1 & 0 & 0 & 0 & 0 & 0 & 0\\\\\n",
       "\t 0 & 0 & 0 & 0 & 0 & 1 & 0 & 0 & 0 & 0 & 0\\\\\n",
       "\t 0 & 0 & 0 & 0 & 0 & 0 & 1 & 0 & 0 & 0 & 0\\\\\n",
       "\t 0 & 0 & 0 & 0 & 0 & 0 & 0 & 1 & 0 & 0 & 0\\\\\n",
       "\t 0 & 0 & 0 & 0 & 0 & 0 & 0 & 0 & 1 & 0 & 0\\\\\n",
       "\t 0 & 0 & 0 & 0 & 0 & 0 & 0 & 0 & 0 & 1 & 0\\\\\n",
       "\t 0 & 0 & 0 & 0 & 0 & 0 & 0 & 0 & 0 & 0 & 1\\\\\n",
       "\t 0 & 0 & 0 & 0 & 0 & 0 & 0 & 0 & 0 & 0 & 0\\\\\n",
       "\\end{tabular}\n"
      ],
      "text/markdown": [
       "\n",
       "| Jan | Feb | Mar | Apr | May | Jun | Jul | Aug | Sep | Oct | Nov |\n",
       "|---|---|---|---|---|---|---|---|---|---|---|\n",
       "| 1 | 0 | 0 | 0 | 0 | 0 | 0 | 0 | 0 | 0 | 0 |\n",
       "| 0 | 1 | 0 | 0 | 0 | 0 | 0 | 0 | 0 | 0 | 0 |\n",
       "| 0 | 0 | 1 | 0 | 0 | 0 | 0 | 0 | 0 | 0 | 0 |\n",
       "| 0 | 0 | 0 | 1 | 0 | 0 | 0 | 0 | 0 | 0 | 0 |\n",
       "| 0 | 0 | 0 | 0 | 1 | 0 | 0 | 0 | 0 | 0 | 0 |\n",
       "| 0 | 0 | 0 | 0 | 0 | 1 | 0 | 0 | 0 | 0 | 0 |\n",
       "| 0 | 0 | 0 | 0 | 0 | 0 | 1 | 0 | 0 | 0 | 0 |\n",
       "| 0 | 0 | 0 | 0 | 0 | 0 | 0 | 1 | 0 | 0 | 0 |\n",
       "| 0 | 0 | 0 | 0 | 0 | 0 | 0 | 0 | 1 | 0 | 0 |\n",
       "| 0 | 0 | 0 | 0 | 0 | 0 | 0 | 0 | 0 | 1 | 0 |\n",
       "| 0 | 0 | 0 | 0 | 0 | 0 | 0 | 0 | 0 | 0 | 1 |\n",
       "| 0 | 0 | 0 | 0 | 0 | 0 | 0 | 0 | 0 | 0 | 0 |\n",
       "| 1 | 0 | 0 | 0 | 0 | 0 | 0 | 0 | 0 | 0 | 0 |\n",
       "| 0 | 1 | 0 | 0 | 0 | 0 | 0 | 0 | 0 | 0 | 0 |\n",
       "| 0 | 0 | 1 | 0 | 0 | 0 | 0 | 0 | 0 | 0 | 0 |\n",
       "| 0 | 0 | 0 | 1 | 0 | 0 | 0 | 0 | 0 | 0 | 0 |\n",
       "| 0 | 0 | 0 | 0 | 1 | 0 | 0 | 0 | 0 | 0 | 0 |\n",
       "| 0 | 0 | 0 | 0 | 0 | 1 | 0 | 0 | 0 | 0 | 0 |\n",
       "| 0 | 0 | 0 | 0 | 0 | 0 | 1 | 0 | 0 | 0 | 0 |\n",
       "| 0 | 0 | 0 | 0 | 0 | 0 | 0 | 1 | 0 | 0 | 0 |\n",
       "| 0 | 0 | 0 | 0 | 0 | 0 | 0 | 0 | 1 | 0 | 0 |\n",
       "| 0 | 0 | 0 | 0 | 0 | 0 | 0 | 0 | 0 | 1 | 0 |\n",
       "| 0 | 0 | 0 | 0 | 0 | 0 | 0 | 0 | 0 | 0 | 1 |\n",
       "| 0 | 0 | 0 | 0 | 0 | 0 | 0 | 0 | 0 | 0 | 0 |\n",
       "| 1 | 0 | 0 | 0 | 0 | 0 | 0 | 0 | 0 | 0 | 0 |\n",
       "| 0 | 1 | 0 | 0 | 0 | 0 | 0 | 0 | 0 | 0 | 0 |\n",
       "| 0 | 0 | 1 | 0 | 0 | 0 | 0 | 0 | 0 | 0 | 0 |\n",
       "| 0 | 0 | 0 | 1 | 0 | 0 | 0 | 0 | 0 | 0 | 0 |\n",
       "| 0 | 0 | 0 | 0 | 1 | 0 | 0 | 0 | 0 | 0 | 0 |\n",
       "| 0 | 0 | 0 | 0 | 0 | 1 | 0 | 0 | 0 | 0 | 0 |\n",
       "| ... | ... | ... | ... | ... | ... | ... | ... | ... | ... | ... |\n",
       "| 0 | 0 | 0 | 0 | 0 | 0 | 1 | 0 | 0 | 0 | 0 |\n",
       "| 0 | 0 | 0 | 0 | 0 | 0 | 0 | 1 | 0 | 0 | 0 |\n",
       "| 0 | 0 | 0 | 0 | 0 | 0 | 0 | 0 | 1 | 0 | 0 |\n",
       "| 0 | 0 | 0 | 0 | 0 | 0 | 0 | 0 | 0 | 1 | 0 |\n",
       "| 0 | 0 | 0 | 0 | 0 | 0 | 0 | 0 | 0 | 0 | 1 |\n",
       "| 0 | 0 | 0 | 0 | 0 | 0 | 0 | 0 | 0 | 0 | 0 |\n",
       "| 1 | 0 | 0 | 0 | 0 | 0 | 0 | 0 | 0 | 0 | 0 |\n",
       "| 0 | 1 | 0 | 0 | 0 | 0 | 0 | 0 | 0 | 0 | 0 |\n",
       "| 0 | 0 | 1 | 0 | 0 | 0 | 0 | 0 | 0 | 0 | 0 |\n",
       "| 0 | 0 | 0 | 1 | 0 | 0 | 0 | 0 | 0 | 0 | 0 |\n",
       "| 0 | 0 | 0 | 0 | 1 | 0 | 0 | 0 | 0 | 0 | 0 |\n",
       "| 0 | 0 | 0 | 0 | 0 | 1 | 0 | 0 | 0 | 0 | 0 |\n",
       "| 0 | 0 | 0 | 0 | 0 | 0 | 1 | 0 | 0 | 0 | 0 |\n",
       "| 0 | 0 | 0 | 0 | 0 | 0 | 0 | 1 | 0 | 0 | 0 |\n",
       "| 0 | 0 | 0 | 0 | 0 | 0 | 0 | 0 | 1 | 0 | 0 |\n",
       "| 0 | 0 | 0 | 0 | 0 | 0 | 0 | 0 | 0 | 1 | 0 |\n",
       "| 0 | 0 | 0 | 0 | 0 | 0 | 0 | 0 | 0 | 0 | 1 |\n",
       "| 0 | 0 | 0 | 0 | 0 | 0 | 0 | 0 | 0 | 0 | 0 |\n",
       "| 1 | 0 | 0 | 0 | 0 | 0 | 0 | 0 | 0 | 0 | 0 |\n",
       "| 0 | 1 | 0 | 0 | 0 | 0 | 0 | 0 | 0 | 0 | 0 |\n",
       "| 0 | 0 | 1 | 0 | 0 | 0 | 0 | 0 | 0 | 0 | 0 |\n",
       "| 0 | 0 | 0 | 1 | 0 | 0 | 0 | 0 | 0 | 0 | 0 |\n",
       "| 0 | 0 | 0 | 0 | 1 | 0 | 0 | 0 | 0 | 0 | 0 |\n",
       "| 0 | 0 | 0 | 0 | 0 | 1 | 0 | 0 | 0 | 0 | 0 |\n",
       "| 0 | 0 | 0 | 0 | 0 | 0 | 1 | 0 | 0 | 0 | 0 |\n",
       "| 0 | 0 | 0 | 0 | 0 | 0 | 0 | 1 | 0 | 0 | 0 |\n",
       "| 0 | 0 | 0 | 0 | 0 | 0 | 0 | 0 | 1 | 0 | 0 |\n",
       "| 0 | 0 | 0 | 0 | 0 | 0 | 0 | 0 | 0 | 1 | 0 |\n",
       "| 0 | 0 | 0 | 0 | 0 | 0 | 0 | 0 | 0 | 0 | 1 |\n",
       "| 0 | 0 | 0 | 0 | 0 | 0 | 0 | 0 | 0 | 0 | 0 |\n",
       "\n"
      ],
      "text/plain": [
       "      Jan Feb Mar Apr May Jun Jul Aug Sep Oct Nov\n",
       " [1,] 1   0   0   0   0   0   0   0   0   0   0  \n",
       " [2,] 0   1   0   0   0   0   0   0   0   0   0  \n",
       " [3,] 0   0   1   0   0   0   0   0   0   0   0  \n",
       " [4,] 0   0   0   1   0   0   0   0   0   0   0  \n",
       " [5,] 0   0   0   0   1   0   0   0   0   0   0  \n",
       " [6,] 0   0   0   0   0   1   0   0   0   0   0  \n",
       " [7,] 0   0   0   0   0   0   1   0   0   0   0  \n",
       " [8,] 0   0   0   0   0   0   0   1   0   0   0  \n",
       " [9,] 0   0   0   0   0   0   0   0   1   0   0  \n",
       "[10,] 0   0   0   0   0   0   0   0   0   1   0  \n",
       "[11,] 0   0   0   0   0   0   0   0   0   0   1  \n",
       "[12,] 0   0   0   0   0   0   0   0   0   0   0  \n",
       "[13,] 1   0   0   0   0   0   0   0   0   0   0  \n",
       "[14,] 0   1   0   0   0   0   0   0   0   0   0  \n",
       "[15,] 0   0   1   0   0   0   0   0   0   0   0  \n",
       "[16,] 0   0   0   1   0   0   0   0   0   0   0  \n",
       "[17,] 0   0   0   0   1   0   0   0   0   0   0  \n",
       "[18,] 0   0   0   0   0   1   0   0   0   0   0  \n",
       "[19,] 0   0   0   0   0   0   1   0   0   0   0  \n",
       "[20,] 0   0   0   0   0   0   0   1   0   0   0  \n",
       "[21,] 0   0   0   0   0   0   0   0   1   0   0  \n",
       "[22,] 0   0   0   0   0   0   0   0   0   1   0  \n",
       "[23,] 0   0   0   0   0   0   0   0   0   0   1  \n",
       "[24,] 0   0   0   0   0   0   0   0   0   0   0  \n",
       "[25,] 1   0   0   0   0   0   0   0   0   0   0  \n",
       "[26,] 0   1   0   0   0   0   0   0   0   0   0  \n",
       "[27,] 0   0   1   0   0   0   0   0   0   0   0  \n",
       "[28,] 0   0   0   1   0   0   0   0   0   0   0  \n",
       "[29,] 0   0   0   0   1   0   0   0   0   0   0  \n",
       "[30,] 0   0   0   0   0   1   0   0   0   0   0  \n",
       "[31,] ... ... ... ... ... ... ... ... ... ... ...\n",
       "[32,] 0   0   0   0   0   0   1   0   0   0   0  \n",
       "[33,] 0   0   0   0   0   0   0   1   0   0   0  \n",
       "[34,] 0   0   0   0   0   0   0   0   1   0   0  \n",
       "[35,] 0   0   0   0   0   0   0   0   0   1   0  \n",
       "[36,] 0   0   0   0   0   0   0   0   0   0   1  \n",
       "[37,] 0   0   0   0   0   0   0   0   0   0   0  \n",
       "[38,] 1   0   0   0   0   0   0   0   0   0   0  \n",
       "[39,] 0   1   0   0   0   0   0   0   0   0   0  \n",
       "[40,] 0   0   1   0   0   0   0   0   0   0   0  \n",
       "[41,] 0   0   0   1   0   0   0   0   0   0   0  \n",
       "[42,] 0   0   0   0   1   0   0   0   0   0   0  \n",
       "[43,] 0   0   0   0   0   1   0   0   0   0   0  \n",
       "[44,] 0   0   0   0   0   0   1   0   0   0   0  \n",
       "[45,] 0   0   0   0   0   0   0   1   0   0   0  \n",
       "[46,] 0   0   0   0   0   0   0   0   1   0   0  \n",
       "[47,] 0   0   0   0   0   0   0   0   0   1   0  \n",
       "[48,] 0   0   0   0   0   0   0   0   0   0   1  \n",
       "[49,] 0   0   0   0   0   0   0   0   0   0   0  \n",
       "[50,] 1   0   0   0   0   0   0   0   0   0   0  \n",
       "[51,] 0   1   0   0   0   0   0   0   0   0   0  \n",
       "[52,] 0   0   1   0   0   0   0   0   0   0   0  \n",
       "[53,] 0   0   0   1   0   0   0   0   0   0   0  \n",
       "[54,] 0   0   0   0   1   0   0   0   0   0   0  \n",
       "[55,] 0   0   0   0   0   1   0   0   0   0   0  \n",
       "[56,] 0   0   0   0   0   0   1   0   0   0   0  \n",
       "[57,] 0   0   0   0   0   0   0   1   0   0   0  \n",
       "[58,] 0   0   0   0   0   0   0   0   1   0   0  \n",
       "[59,] 0   0   0   0   0   0   0   0   0   1   0  \n",
       "[60,] 0   0   0   0   0   0   0   0   0   0   1  \n",
       "[61,] 0   0   0   0   0   0   0   0   0   0   0  "
      ]
     },
     "metadata": {},
     "output_type": "display_data"
    }
   ],
   "source": [
    "library(forecast)\n",
    "DM<-seasonaldummy(data.ts)\n",
    "DM"
   ]
  },
  {
   "cell_type": "code",
   "execution_count": 64,
   "id": "1a401d3e",
   "metadata": {},
   "outputs": [
    {
     "data": {
      "text/plain": [
       "\n",
       "Call:\n",
       "lm(formula = data.ts ~ time * (VD + VD1 + VD2 + VD3) + DM)\n",
       "\n",
       "Residuals:\n",
       "    Min      1Q  Median      3Q     Max \n",
       "-1.3170 -0.4006 -0.1134  0.3712  2.0070 \n",
       "\n",
       "Coefficients:\n",
       "             Estimate Std. Error t value Pr(>|t|)    \n",
       "(Intercept)  0.963454   0.430470   2.238 0.025910 *  \n",
       "time         0.022098   0.002996   7.377 1.45e-12 ***\n",
       "VD           6.691475   0.439610  15.221  < 2e-16 ***\n",
       "VD1         -3.176160   0.970078  -3.274 0.001178 ** \n",
       "VD2         18.330271   1.433483  12.787  < 2e-16 ***\n",
       "VD3         10.567991   8.439991   1.252 0.211450    \n",
       "DMJan        0.849371   0.190966   4.448 1.20e-05 ***\n",
       "DMFeb        0.699111   0.190932   3.662 0.000294 ***\n",
       "DMMar        0.527421   0.190918   2.763 0.006072 ** \n",
       "DMApr        0.108612   0.191323   0.568 0.570652    \n",
       "DMMay        0.289569   0.191211   1.514 0.130929    \n",
       "DMJun        0.659812   0.191131   3.452 0.000632 ***\n",
       "DMJul        0.683627   0.191084   3.578 0.000401 ***\n",
       "DMAug        0.360835   0.190991   1.889 0.059773 .  \n",
       "DMSep        0.395831   0.190972   2.073 0.039011 *  \n",
       "DMOct        0.016542   0.190985   0.087 0.931034    \n",
       "DMNov       -0.073462   0.191031  -0.385 0.700826    \n",
       "time:VD     -0.086918   0.004132 -21.036  < 2e-16 ***\n",
       "time:VD1     0.014568   0.005039   2.891 0.004106 ** \n",
       "time:VD2    -0.075629   0.005685 -13.303  < 2e-16 ***\n",
       "time:VD3    -0.049737   0.026030  -1.911 0.056939 .  \n",
       "---\n",
       "Signif. codes:  0 '***' 0.001 '**' 0.01 '*' 0.05 '.' 0.1 ' ' 1\n",
       "\n",
       "Residual standard error: 0.7133 on 315 degrees of freedom\n",
       "Multiple R-squared:  0.8031,\tAdjusted R-squared:  0.7906 \n",
       "F-statistic: 64.24 on 20 and 315 DF,  p-value: < 2.2e-16\n"
      ]
     },
     "metadata": {},
     "output_type": "display_data"
    }
   ],
   "source": [
    "model2<-lm(data.ts~time*(VD+VD1+VD2+VD3)+DM)\n",
    "summary(model2)"
   ]
  },
  {
   "cell_type": "code",
   "execution_count": 66,
   "id": "afc7e667",
   "metadata": {},
   "outputs": [
    {
     "data": {
      "text/plain": [
       "\n",
       "Call:\n",
       "lm(formula = data.ts ~ time * (VD + VD1 + VD2 + VD3) + DM + I(time^2))\n",
       "\n",
       "Residuals:\n",
       "    Min      1Q  Median      3Q     Max \n",
       "-1.2006 -0.4702 -0.1482  0.4566  1.8351 \n",
       "\n",
       "Coefficients:\n",
       "              Estimate Std. Error t value Pr(>|t|)    \n",
       "(Intercept) -6.295e+00  1.412e+00  -4.458 1.15e-05 ***\n",
       "time         1.330e-01  2.083e-02   6.384 6.20e-10 ***\n",
       "VD           1.336e+01  1.310e+00  10.197  < 2e-16 ***\n",
       "VD1         -1.476e+01  2.347e+00  -6.288 1.08e-09 ***\n",
       "VD2         -7.169e+00  4.940e+00  -1.451 0.147659    \n",
       "VD3         -2.567e+01  1.053e+01  -2.437 0.015354 *  \n",
       "DMJan        8.668e-01  1.831e-01   4.735 3.32e-06 ***\n",
       "DMFeb        7.148e-01  1.830e-01   3.906 0.000115 ***\n",
       "DMMar        5.423e-01  1.830e-01   2.963 0.003279 ** \n",
       "DMApr        1.138e-01  1.834e-01   0.621 0.535346    \n",
       "DMMay        2.943e-01  1.833e-01   1.606 0.109381    \n",
       "DMJun        6.648e-01  1.832e-01   3.629 0.000332 ***\n",
       "DMJul        6.898e-01  1.832e-01   3.766 0.000198 ***\n",
       "DMAug        3.663e-01  1.831e-01   2.001 0.046248 *  \n",
       "DMSep        4.015e-01  1.830e-01   2.193 0.029020 *  \n",
       "DMOct        2.315e-02  1.831e-01   0.126 0.899433    \n",
       "DMNov       -6.506e-02  1.831e-01  -0.355 0.722599    \n",
       "I(time^2)   -4.092e-04  7.615e-05  -5.374 1.50e-07 ***\n",
       "time:VD     -1.602e-01  1.419e-02 -11.285  < 2e-16 ***\n",
       "time:VD1     8.006e-02  1.311e-02   6.108 2.98e-09 ***\n",
       "time:VD2     4.549e-02  2.319e-02   1.962 0.050627 .  \n",
       "time:VD3     1.062e-01  3.827e-02   2.775 0.005845 ** \n",
       "---\n",
       "Signif. codes:  0 '***' 0.001 '**' 0.01 '*' 0.05 '.' 0.1 ' ' 1\n",
       "\n",
       "Residual standard error: 0.6837 on 314 degrees of freedom\n",
       "Multiple R-squared:  0.8197,\tAdjusted R-squared:  0.8076 \n",
       "F-statistic: 67.97 on 21 and 314 DF,  p-value: < 2.2e-16\n"
      ]
     },
     "metadata": {},
     "output_type": "display_data"
    }
   ],
   "source": [
    "model3<-lm(data.ts~time*(VD+VD1+VD2+VD3)+DM+I(time^2))\n",
    "summary(model3)"
   ]
  },
  {
   "cell_type": "code",
   "execution_count": 67,
   "id": "5254b08e",
   "metadata": {},
   "outputs": [
    {
     "data": {
      "text/plain": [
       "\n",
       "Call:\n",
       "lm(formula = data.ts ~ time^2 * (VD + VD1 + VD2 + VD3 + DM))\n",
       "\n",
       "Residuals:\n",
       "    Min      1Q  Median      3Q     Max \n",
       "-1.3225 -0.4018 -0.1107  0.3592  2.0364 \n",
       "\n",
       "Coefficients:\n",
       "              Estimate Std. Error t value Pr(>|t|)    \n",
       "(Intercept)  0.8124932  0.4963731   1.637  0.10269    \n",
       "time         0.0229712  0.0033329   6.892 3.17e-11 ***\n",
       "VD           6.6900455  0.4472779  14.957  < 2e-16 ***\n",
       "VD1         -3.1882858  0.9864766  -3.232  0.00136 ** \n",
       "VD2         18.3383719  1.4590242  12.569  < 2e-16 ***\n",
       "VD3         11.1918814  8.7071373   1.285  0.19964    \n",
       "DMJan        0.9787072  0.3897246   2.511  0.01255 *  \n",
       "DMFeb        0.7955713  0.3904100   2.038  0.04244 *  \n",
       "DMMar        0.7087651  0.3911283   1.812  0.07096 .  \n",
       "DMApr        0.3242272  0.3925570   0.826  0.40949    \n",
       "DMMay        0.4315525  0.3931485   1.098  0.27321    \n",
       "DMJun        0.8632908  0.3937896   2.192  0.02912 *  \n",
       "DMJul        0.8225278  0.3944822   2.085  0.03790 *  \n",
       "DMAug        0.4973822  0.3951468   1.259  0.20909    \n",
       "DMSep        0.6696989  0.3958415   1.692  0.09170 .  \n",
       "DMOct        0.1625959  0.3965912   0.410  0.68211    \n",
       "DMNov        0.0730878  0.3973978   0.184  0.85420    \n",
       "time:VD     -0.0868963  0.0042043 -20.669  < 2e-16 ***\n",
       "time:VD1     0.0146265  0.0051239   2.855  0.00461 ** \n",
       "time:VD2    -0.0756652  0.0057845 -13.081  < 2e-16 ***\n",
       "time:VD3    -0.0516465  0.0268449  -1.924  0.05530 .  \n",
       "time:DMJan  -0.0007377  0.0020089  -0.367  0.71370    \n",
       "time:DMFeb  -0.0005378  0.0020075  -0.268  0.78898    \n",
       "time:DMMar  -0.0010539  0.0020064  -0.525  0.59978    \n",
       "time:DMApr  -0.0012641  0.0020167  -0.627  0.53126    \n",
       "time:DMMay  -0.0008201  0.0020126  -0.407  0.68395    \n",
       "time:DMJun  -0.0011857  0.0020092  -0.590  0.55554    \n",
       "time:DMJul  -0.0008010  0.0020064  -0.399  0.69000    \n",
       "time:DMAug  -0.0007867  0.0020042  -0.393  0.69493    \n",
       "time:DMSep  -0.0015895  0.0020024  -0.794  0.42791    \n",
       "time:DMOct  -0.0008416  0.0020012  -0.421  0.67439    \n",
       "time:DMNov  -0.0008439  0.0020006  -0.422  0.67345    \n",
       "---\n",
       "Signif. codes:  0 '***' 0.001 '**' 0.01 '*' 0.05 '.' 0.1 ' ' 1\n",
       "\n",
       "Residual standard error: 0.7251 on 304 degrees of freedom\n",
       "Multiple R-squared:  0.8036,\tAdjusted R-squared:  0.7836 \n",
       "F-statistic: 40.14 on 31 and 304 DF,  p-value: < 2.2e-16\n"
      ]
     },
     "metadata": {},
     "output_type": "display_data"
    }
   ],
   "source": [
    "model4<-lm(data.ts~time^2*(VD+VD1+VD2+VD3+DM))\n",
    "summary(model4)"
   ]
  },
  {
   "cell_type": "code",
   "execution_count": 69,
   "id": "ce32d90c",
   "metadata": {},
   "outputs": [],
   "source": [
    "T=12\n",
    "MC=matrix(0,length(data.ts),6) #initialiser la matrice par 0\n",
    "MS=matrix(0,length(data.ts),5)\n",
    "for (i in 1:6){\n",
    "    MC[,i]=cos(2*pi*i*time/T)}\n",
    "for(i in 1:5){\n",
    "    MS[,i]=sin(2*pi*i*time/T)\n",
    "}"
   ]
  },
  {
   "cell_type": "code",
   "execution_count": 70,
   "id": "e765c5a0",
   "metadata": {},
   "outputs": [
    {
     "data": {
      "text/plain": [
       "\n",
       "Call:\n",
       "lm(formula = data.ts ~ time^2 * (VD + VD1 + VD2 + VD3 + DM) + \n",
       "    MS + MC)\n",
       "\n",
       "Residuals:\n",
       "    Min      1Q  Median      3Q     Max \n",
       "-1.3225 -0.4018 -0.1107  0.3592  2.0364 \n",
       "\n",
       "Coefficients: (11 not defined because of singularities)\n",
       "              Estimate Std. Error t value Pr(>|t|)    \n",
       "(Intercept)  0.8124932  0.4963731   1.637  0.10269    \n",
       "time         0.0229712  0.0033329   6.892 3.17e-11 ***\n",
       "VD           6.6900455  0.4472779  14.957  < 2e-16 ***\n",
       "VD1         -3.1882858  0.9864766  -3.232  0.00136 ** \n",
       "VD2         18.3383719  1.4590242  12.569  < 2e-16 ***\n",
       "VD3         11.1918814  8.7071373   1.285  0.19964    \n",
       "DMJan        0.9787072  0.3897246   2.511  0.01255 *  \n",
       "DMFeb        0.7955713  0.3904100   2.038  0.04244 *  \n",
       "DMMar        0.7087651  0.3911283   1.812  0.07096 .  \n",
       "DMApr        0.3242272  0.3925570   0.826  0.40949    \n",
       "DMMay        0.4315525  0.3931485   1.098  0.27321    \n",
       "DMJun        0.8632908  0.3937896   2.192  0.02912 *  \n",
       "DMJul        0.8225278  0.3944822   2.085  0.03790 *  \n",
       "DMAug        0.4973822  0.3951468   1.259  0.20909    \n",
       "DMSep        0.6696989  0.3958415   1.692  0.09170 .  \n",
       "DMOct        0.1625959  0.3965912   0.410  0.68211    \n",
       "DMNov        0.0730878  0.3973978   0.184  0.85420    \n",
       "MS1                 NA         NA      NA       NA    \n",
       "MS2                 NA         NA      NA       NA    \n",
       "MS3                 NA         NA      NA       NA    \n",
       "MS4                 NA         NA      NA       NA    \n",
       "MS5                 NA         NA      NA       NA    \n",
       "MC1                 NA         NA      NA       NA    \n",
       "MC2                 NA         NA      NA       NA    \n",
       "MC3                 NA         NA      NA       NA    \n",
       "MC4                 NA         NA      NA       NA    \n",
       "MC5                 NA         NA      NA       NA    \n",
       "MC6                 NA         NA      NA       NA    \n",
       "time:VD     -0.0868963  0.0042043 -20.669  < 2e-16 ***\n",
       "time:VD1     0.0146265  0.0051239   2.855  0.00461 ** \n",
       "time:VD2    -0.0756652  0.0057845 -13.081  < 2e-16 ***\n",
       "time:VD3    -0.0516465  0.0268449  -1.924  0.05530 .  \n",
       "time:DMJan  -0.0007377  0.0020089  -0.367  0.71370    \n",
       "time:DMFeb  -0.0005378  0.0020075  -0.268  0.78898    \n",
       "time:DMMar  -0.0010539  0.0020064  -0.525  0.59978    \n",
       "time:DMApr  -0.0012641  0.0020167  -0.627  0.53126    \n",
       "time:DMMay  -0.0008201  0.0020126  -0.407  0.68395    \n",
       "time:DMJun  -0.0011857  0.0020092  -0.590  0.55554    \n",
       "time:DMJul  -0.0008010  0.0020064  -0.399  0.69000    \n",
       "time:DMAug  -0.0007867  0.0020042  -0.393  0.69493    \n",
       "time:DMSep  -0.0015895  0.0020024  -0.794  0.42791    \n",
       "time:DMOct  -0.0008416  0.0020012  -0.421  0.67439    \n",
       "time:DMNov  -0.0008439  0.0020006  -0.422  0.67345    \n",
       "---\n",
       "Signif. codes:  0 '***' 0.001 '**' 0.01 '*' 0.05 '.' 0.1 ' ' 1\n",
       "\n",
       "Residual standard error: 0.7251 on 304 degrees of freedom\n",
       "Multiple R-squared:  0.8036,\tAdjusted R-squared:  0.7836 \n",
       "F-statistic: 40.14 on 31 and 304 DF,  p-value: < 2.2e-16\n"
      ]
     },
     "metadata": {},
     "output_type": "display_data"
    }
   ],
   "source": [
    "model5<-lm(data.ts~time^2*(VD+VD1+VD2+VD3+DM)+MS+MC)\n",
    "summary(model5)"
   ]
  },
  {
   "cell_type": "code",
   "execution_count": 71,
   "id": "64371c29",
   "metadata": {},
   "outputs": [
    {
     "data": {
      "image/png": "[encoded data removed]",
      "text/plain": [
       "plot without title"
      ]
     },
     "metadata": {},
     "output_type": "display_data"
    }
   ],
   "source": [
    "plot(data.ts)\n",
    "points(time(data.ts), fitted(model1), type=\"l\", col=\"pink\", lwd=2 )\n",
    "points(time(data.ts), fitted(model2), type=\"l\", col=\"blue\", lwd=2)\n",
    "points(time(data.ts), fitted(model3), type=\"l\", col=\"orange\", lwd=2)\n",
    "points(time(data.ts), fitted(model4), type=\"l\", col=\"red\", lwd=2)\n",
    "points(time(data.ts), fitted(model5), type=\"l\", col=\"green\", lwd=2)"
   ]
  },
  {
   "cell_type": "code",
   "execution_count": 72,
   "id": "4807112e",
   "metadata": {},
   "outputs": [
    {
     "data": {
      "text/html": [
       "784.551457675647"
      ],
      "text/latex": [
       "784.551457675647"
      ],
      "text/markdown": [
       "784.551457675647"
      ],
      "text/plain": [
       "[1] 784.5515"
      ]
     },
     "metadata": {},
     "output_type": "display_data"
    },
    {
     "data": {
      "text/html": [
       "748.809864070368"
      ],
      "text/latex": [
       "748.809864070368"
      ],
      "text/markdown": [
       "748.809864070368"
      ],
      "text/plain": [
       "[1] 748.8099"
      ]
     },
     "metadata": {},
     "output_type": "display_data"
    },
    {
     "data": {
      "text/html": [
       "721.24116222488"
      ],
      "text/latex": [
       "721.24116222488"
      ],
      "text/markdown": [
       "721.24116222488"
      ],
      "text/plain": [
       "[1] 721.2412"
      ]
     },
     "metadata": {},
     "output_type": "display_data"
    },
    {
     "data": {
      "text/html": [
       "769.874012555426"
      ],
      "text/latex": [
       "769.874012555426"
      ],
      "text/markdown": [
       "769.874012555426"
      ],
      "text/plain": [
       "[1] 769.874"
      ]
     },
     "metadata": {},
     "output_type": "display_data"
    },
    {
     "data": {
      "text/html": [
       "769.874012555426"
      ],
      "text/latex": [
       "769.874012555426"
      ],
      "text/markdown": [
       "769.874012555426"
      ],
      "text/plain": [
       "[1] 769.874"
      ]
     },
     "metadata": {},
     "output_type": "display_data"
    }
   ],
   "source": [
    "AIC(model1)\n",
    "AIC(model2)\n",
    "AIC(model3)\n",
    "AIC(model4)\n",
    "AIC(model5)"
   ]
  },
  {
   "cell_type": "code",
   "execution_count": 73,
   "id": "62ce75c8",
   "metadata": {},
   "outputs": [
    {
     "data": {
      "text/html": [
       "826.539680435243"
      ],
      "text/latex": [
       "826.539680435243"
      ],
      "text/markdown": [
       "826.539680435243"
      ],
      "text/plain": [
       "[1] 826.5397"
      ]
     },
     "metadata": {},
     "output_type": "display_data"
    },
    {
     "data": {
      "text/html": [
       "832.786309589559"
      ],
      "text/latex": [
       "832.786309589559"
      ],
      "text/markdown": [
       "832.786309589559"
      ],
      "text/plain": [
       "[1] 832.7863"
      ]
     },
     "metadata": {},
     "output_type": "display_data"
    },
    {
     "data": {
      "text/html": [
       "809.034718904033"
      ],
      "text/latex": [
       "809.034718904033"
      ],
      "text/markdown": [
       "809.034718904033"
      ],
      "text/plain": [
       "[1] 809.0347"
      ]
     },
     "metadata": {},
     "output_type": "display_data"
    },
    {
     "data": {
      "text/html": [
       "895.838680834211"
      ],
      "text/latex": [
       "895.838680834211"
      ],
      "text/markdown": [
       "895.838680834211"
      ],
      "text/plain": [
       "[1] 895.8387"
      ]
     },
     "metadata": {},
     "output_type": "display_data"
    },
    {
     "data": {
      "text/html": [
       "895.838680834211"
      ],
      "text/latex": [
       "895.838680834211"
      ],
      "text/markdown": [
       "895.838680834211"
      ],
      "text/plain": [
       "[1] 895.8387"
      ]
     },
     "metadata": {},
     "output_type": "display_data"
    }
   ],
   "source": [
    "BIC(model1)\n",
    "BIC(model2)\n",
    "BIC(model3)\n",
    "BIC(model4)\n",
    "BIC(model5)"
   ]
  },
  {
   "cell_type": "markdown",
   "id": "d507e15f",
   "metadata": {},
   "source": [
    "On prend le modèle possédant la valeur de AIC et BIC la plus faible: il s'agit du modèle 3"
   ]
  },
  {
   "cell_type": "code",
   "execution_count": 75,
   "id": "8166c892",
   "metadata": {},
   "outputs": [
    {
     "data": {
      "image/png": "[encoded data removed]",
      "text/plain": [
       "Plot with title \"Residual component\""
      ]
     },
     "metadata": {},
     "output_type": "display_data"
    }
   ],
   "source": [
    "sp.res<-model3$residuals\n",
    "plot(time(data.ts),sp.res, xlab=\"Time\", ylab=\"\",\n",
    "     main=\"Residual component\",\n",
    "     col=\"purple4\",lwd=1,type=\"l\")"
   ]
  },
  {
   "cell_type": "markdown",
   "id": "51d8970b",
   "metadata": {},
   "source": [
    "# Test de blancheur"
   ]
  },
  {
   "cell_type": "code",
   "execution_count": 76,
   "id": "e7658166",
   "metadata": {},
   "outputs": [
    {
     "name": "stderr",
     "output_type": "stream",
     "text": [
      "Warning message:\n",
      "\"package 'tseries' was built under R version 3.6.3\""
     ]
    },
    {
     "data": {
      "text/plain": [
       "\n",
       "\tBox-Pierce test\n",
       "\n",
       "data:  model3$residuals\n",
       "X-squared = 309.44, df = 1, p-value < 2.2e-16\n"
      ]
     },
     "metadata": {},
     "output_type": "display_data"
    }
   ],
   "source": [
    "library(tseries)\n",
    "Box.test(model3$residuals)"
   ]
  },
  {
   "cell_type": "markdown",
   "id": "87da8c4f",
   "metadata": {},
   "source": [
    "=> p_value <0.05 => on accepte H1: Pas de bruit blanc\n",
    "Il faut passer maintenant à modéliser les données stationnaires résultantes par un modèle ARMA. "
   ]
  },
  {
   "cell_type": "markdown",
   "id": "28fb6cf1",
   "metadata": {},
   "source": [
    "## Test de stationarité"
   ]
  },
  {
   "cell_type": "code",
   "execution_count": 77,
   "id": "f2c28f97",
   "metadata": {},
   "outputs": [
    {
     "name": "stderr",
     "output_type": "stream",
     "text": [
      "Warning message in adf.test(sp.res):\n",
      "\"p-value smaller than printed p-value\""
     ]
    },
    {
     "data": {
      "text/plain": [
       "\n",
       "\tAugmented Dickey-Fuller Test\n",
       "\n",
       "data:  sp.res\n",
       "Dickey-Fuller = -4.5206, Lag order = 6, p-value = 0.01\n",
       "alternative hypothesis: stationary\n"
      ]
     },
     "metadata": {},
     "output_type": "display_data"
    }
   ],
   "source": [
    "library(tseries)\n",
    "adf.test(sp.res)"
   ]
  },
  {
   "cell_type": "markdown",
   "id": "1debdbf6",
   "metadata": {},
   "source": [
    "=> la valeur de p_value=0.01 <0.05 => on accepte l'hypothèse de stationarité"
   ]
  },
  {
   "cell_type": "markdown",
   "id": "956f47bb",
   "metadata": {},
   "source": [
    "### Modèle ARMA pour la composante résiduelle différenciée\n",
    "\n",
    "\n",
    "\n",
    "\n",
    "\n",
    "Pour avoir une idée sur l'ordre $p$ du modèle AR et l'ordre $q$ de celui de MA, on trace l'acf et la pacf des données résiduelles différenciées."
   ]
  },
  {
   "cell_type": "code",
   "execution_count": 82,
   "id": "740f8ea5",
   "metadata": {
    "scrolled": false
   },
   "outputs": [
    {
     "data": {
      "image/png": "[encoded data removed]",
      "text/plain": [
       "Plot with title \"Series  sp.res\""
      ]
     },
     "metadata": {},
     "output_type": "display_data"
    }
   ],
   "source": [
    "par(mfrow=c(1,2))\n",
    "acf(sp.res,50)\n",
    "pacf(sp.res,50)"
   ]
  },
  {
   "cell_type": "code",
   "execution_count": 83,
   "id": "570f5d02",
   "metadata": {},
   "outputs": [
    {
     "name": "stdout",
     "output_type": "stream",
     "text": [
      "\n",
      "  There is a binary version available but the source version is later:\n",
      "         binary source needs_compilation\n",
      "forecast   8.14   8.21              TRUE\n",
      "\n",
      "  Binaries will be installed\n"
     ]
    },
    {
     "name": "stderr",
     "output_type": "stream",
     "text": [
      "Warning message:\n",
      "\"package 'forecast' is in use and will not be installed\""
     ]
    }
   ],
   "source": [
    "install.packages(\"forecast\")"
   ]
  },
  {
   "cell_type": "markdown",
   "id": "99630277",
   "metadata": {},
   "source": [
    "les modeles sont ajustee n utilisant des approximation pour accelerer le processus "
   ]
  },
  {
   "cell_type": "code",
   "execution_count": 85,
   "id": "4f2f853c",
   "metadata": {},
   "outputs": [
    {
     "name": "stdout",
     "output_type": "stream",
     "text": [
      "\n",
      " Fitting models using approximations to speed things up...\n",
      "\n",
      " ARIMA(2,0,2) with non-zero mean : -189.5967\n",
      " ARIMA(0,0,0) with non-zero mean : 679.2772\n",
      " ARIMA(1,0,0) with non-zero mean : -194.8362\n",
      " ARIMA(0,0,1) with non-zero mean : 329.0373\n",
      " ARIMA(0,0,0) with zero mean     : 677.2531\n",
      " ARIMA(2,0,0) with non-zero mean : -192.3478\n",
      " ARIMA(1,0,1) with non-zero mean : -192.8809\n",
      " ARIMA(2,0,1) with non-zero mean : -191.4856\n",
      " ARIMA(1,0,0) with zero mean     : -196.811\n",
      " ARIMA(2,0,0) with zero mean     : -194.3179\n",
      " ARIMA(1,0,1) with zero mean     : -194.87\n",
      " ARIMA(0,0,1) with zero mean     : 327.0326\n",
      " ARIMA(2,0,1) with zero mean     : -193.4954\n",
      "\n",
      " Now re-fitting the best model(s) without approximations...\n",
      "\n",
      " ARIMA(1,0,0) with zero mean     : -193.3258\n",
      "\n",
      " Best model: ARIMA(1,0,0) with zero mean     \n",
      "\n"
     ]
    }
   ],
   "source": [
    "library(forecast)\n",
    "ARIMA=auto.arima(sp.res,trace=TRUE)"
   ]
  },
  {
   "cell_type": "markdown",
   "id": "21ac1195",
   "metadata": {},
   "source": [
    "=> On remarque une stationarité avec la présence d'un bruit blanc"
   ]
  },
  {
   "cell_type": "code",
   "execution_count": 87,
   "id": "a670462d",
   "metadata": {},
   "outputs": [
    {
     "name": "stdout",
     "output_type": "stream",
     "text": [
      "package 'aTSA' successfully unpacked and MD5 sums checked\n",
      "\n",
      "The downloaded binary packages are in\n",
      "\tC:\\Users\\Abir\\AppData\\Local\\Temp\\RtmpMr0oaG\\downloaded_packages\n"
     ]
    },
    {
     "name": "stderr",
     "output_type": "stream",
     "text": [
      "\n",
      "Attaching package: 'aTSA'\n",
      "\n",
      "The following objects are masked from 'package:tseries':\n",
      "\n",
      "    adf.test, kpss.test, pp.test\n",
      "\n",
      "The following object is masked from 'package:forecast':\n",
      "\n",
      "    forecast\n",
      "\n",
      "The following object is masked from 'package:graphics':\n",
      "\n",
      "    identify\n",
      "\n"
     ]
    },
    {
     "data": {
      "image/png": "[encoded data removed]",
      "text/plain": [
       "Plot with title \"\""
      ]
     },
     "metadata": {},
     "output_type": "display_data"
    }
   ],
   "source": [
    "install.packages(\"aTSA\")\n",
    "library(aTSA)\n",
    "ts.diag(Model.res)"
   ]
  },
  {
   "cell_type": "markdown",
   "id": "1648c664",
   "metadata": {},
   "source": [
    "## Forecasting en utilisant le modèle SARIMA"
   ]
  },
  {
   "cell_type": "code",
   "execution_count": 88,
   "id": "94949395",
   "metadata": {},
   "outputs": [
    {
     "name": "stdout",
     "output_type": "stream",
     "text": [
      "Series: data.ts \n",
      "ARIMA(3,1,2)(1,1,2)[12] \n",
      "\n",
      "Coefficients:\n",
      "         ar1      ar2      ar3      ma1     ma2    sar1     sma1    sma2\n",
      "      1.6273  -0.6464  -0.0553  -1.7263  0.8774  0.2235  -0.9463  0.0589\n",
      "s.e.  0.0796   0.1248   0.0615   0.0589  0.0622  0.4106   0.4203  0.3417\n",
      "\n",
      "sigma^2 estimated as 0.02062:  log likelihood=164.69\n",
      "AIC=-311.38   AICc=-310.81   BIC=-277.38\n",
      "\n",
      "Training set error measures:\n",
      "                      ME      RMSE       MAE       MPE     MAPE      MASE\n",
      "Training set 0.003809032 0.1390429 0.1094972 0.1839175 2.478991 0.1550572\n",
      "                     ACF1\n",
      "Training set -0.003912902\n"
     ]
    }
   ],
   "source": [
    "Model.SARIMA<-auto.arima(data.ts)\n",
    "summary(Model.SARIMA)"
   ]
  },
  {
   "cell_type": "code",
   "execution_count": 89,
   "id": "e54c99d0",
   "metadata": {},
   "outputs": [
    {
     "name": "stdout",
     "output_type": "stream",
     "text": [
      "\n",
      "\tLjung-Box test\n",
      "\n",
      "data:  Residuals from ARIMA(3,0,1)(1,1,2)[12]\n",
      "Q* = 32.225, df = 17, p-value = 0.01411\n",
      "\n",
      "Model df: 7.   Total lags used: 24\n",
      "\n"
     ]
    },
    {
     "data": {
      "image/png": "[encoded data removed]",
      "text/plain": [
       "plot without title"
      ]
     },
     "metadata": {},
     "output_type": "display_data"
    }
   ],
   "source": [
    "Model.SARIMA.fit<-arima(data.ts, order = c(3,0,1),seasonal = list(order = c(1,1,2), period = 12))\n",
    "checkresiduals(Model.SARIMA.fit)"
   ]
  },
  {
   "cell_type": "code",
   "execution_count": 90,
   "id": "b6390c14",
   "metadata": {},
   "outputs": [
    {
     "name": "stdout",
     "output_type": "stream",
     "text": [
      "Forecast for univariate time series: \n",
      "    Lead Forecast   S.E Lower Upper\n",
      "337    1     3.13 0.145 2.850  3.42\n",
      "338    2     2.97 0.200 2.576  3.36\n",
      "339    3     2.79 0.258 2.285  3.30\n",
      "340    4     2.40 0.314 1.783  3.01\n",
      "341    5     2.61 0.369 1.890  3.34\n",
      "342    6     2.97 0.424 2.138  3.80\n",
      "343    7     3.06 0.478 2.127  4.00\n",
      "344    8     2.80 0.532 1.754  3.84\n",
      "345    9     2.75 0.584 1.607  3.90\n",
      "346   10     2.49 0.636 1.244  3.74\n",
      "347   11     2.41 0.686 1.063  3.75\n",
      "348   12     2.48 0.735 1.035  3.92\n",
      "349   13     3.32 0.795 1.761  4.88\n",
      "350   14     3.19 0.851 1.522  4.86\n",
      "351   15     3.03 0.907 1.249  4.80\n",
      "352   16     2.66 0.962 0.774  4.54\n",
      "353   17     2.89 1.015 0.905  4.88\n",
      "354   18     3.27 1.066 1.181  5.36\n",
      "355   19     3.37 1.116 1.187  5.56\n",
      "356   20     3.12 1.164 0.836  5.40\n",
      "357   21     3.10 1.211 0.724  5.47\n",
      "358   22     2.84 1.255 0.377  5.30\n",
      "359   23     2.76 1.298 0.220  5.31\n",
      "360   24     2.84 1.339 0.216  5.46\n",
      "361   25     3.69 1.384 0.974  6.40\n",
      "362   26     3.57 1.427 0.772  6.36\n",
      "363   27     3.40 1.468 0.527  6.28\n",
      "------ \n",
      "Note: confidence level = 95 % \n"
     ]
    },
    {
     "data": {
      "image/png": "[encoded data removed]",
      "text/plain": [
       "plot without title"
      ]
     },
     "metadata": {},
     "output_type": "display_data"
    }
   ],
   "source": [
    "forecast(Model.SARIMA.fit,27)"
   ]
  }
 ],
 "metadata": {
  "kernelspec": {
   "display_name": "R",
   "language": "R",
   "name": "ir"
  },
  "language_info": {
   "codemirror_mode": "r",
   "file_extension": ".r",
   "mimetype": "text/x-r-source",
   "name": "R",
   "pygments_lexer": "r",
   "version": "3.6.1"
  }
 },
 "nbformat": 4,
 "nbformat_minor": 5
}
